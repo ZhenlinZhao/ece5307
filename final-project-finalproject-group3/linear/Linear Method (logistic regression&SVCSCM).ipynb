{
 "cells": [
  {
   "cell_type": "markdown",
   "metadata": {
    "id": "81OGGxUXz-Sw"
   },
   "source": [
    "# training demo for sklearn models"
   ]
  },
  {
   "cell_type": "code",
   "execution_count": 1,
   "metadata": {
    "id": "_8Kezs-Sz-S0"
   },
   "outputs": [],
   "source": [
    "import numpy as np\n",
    "import pickle\n",
    "import bz2\n",
    "from sklearn.linear_model import LogisticRegression\n",
    "from sklearn.metrics import roc_auc_score\n",
    "from sklearn import preprocessing"
   ]
  },
  {
   "cell_type": "code",
   "execution_count": 2,
   "metadata": {
    "id": "TFoVfLAYz-S2"
   },
   "outputs": [],
   "source": [
    "\n",
    "Xtr_loadpath = 'Xtr.csv'\n",
    "Xts_loadpath = 'Xts.csv'\n",
    "ytr_loadpath = 'ytr.csv'\n",
    "\n",
    "Xtr = np.loadtxt(Xtr_loadpath, delimiter=\",\")\n",
    "Xts = np.loadtxt(Xts_loadpath, delimiter=\",\")\n",
    "ytr = np.loadtxt(ytr_loadpath, delimiter=\",\")"
   ]
  },
  {
   "cell_type": "code",
   "execution_count": 3,
   "metadata": {
    "id": "_tKyNoNLz-S2"
   },
   "outputs": [],
   "source": [
    "scaler = preprocessing.StandardScaler().fit(Xtr)\n",
    "\n",
    "\n",
    "Xtr_standardized = scaler.transform(Xtr) \n",
    "Xts_standardized = scaler.transform(Xts) \n",
    "ytr_standardized = ytr \n",
    "\n",
    "Xtr_savepath = 'Xtr_sklearn.csv'\n",
    "Xts_savepath = 'Xts_sklearn.csv'\n",
    "ytr_savepath = 'ytr_sklearn.csv'\n",
    "yts_hat_savepath = 'yts_hat_sklearn.csv'\n",
    "\n",
    "np.savetxt(Xtr_savepath, Xtr_standardized, delimiter=\",\")\n",
    "np.savetxt(Xts_savepath, Xts_standardized, delimiter=\",\")\n",
    "np.savetxt(ytr_savepath, ytr_standardized, delimiter=\",\")"
   ]
  },
  {
   "cell_type": "code",
   "execution_count": 4,
   "metadata": {
    "id": "uTdGjO3q9jRG"
   },
   "outputs": [],
   "source": [
    "scaler2 = preprocessing.MinMaxScaler().fit(Xtr)\n",
    "Xtr_standardized2 = scaler2.transform(Xtr) \n",
    "Xts_standardized2 = scaler2.transform(Xts) \n",
    "ytr_standardized2 = ytr\n",
    "\n",
    "Xtr_savepath2 = 'Xtr_sklearn_2.csv'\n",
    "Xts_savepath2 = 'Xts_sklearn_2.csv'\n",
    "ytr_savepath2 = 'ytr_sklearn_2.csv'\n",
    "\n",
    "np.savetxt(Xtr_savepath2, Xtr_standardized2, delimiter=\",\")\n",
    "np.savetxt(Xts_savepath2, Xts_standardized2, delimiter=\",\")\n",
    "np.savetxt(ytr_savepath2, ytr_standardized2, delimiter=\",\")"
   ]
  },
  {
   "cell_type": "code",
   "execution_count": 5,
   "metadata": {
    "id": "8uE2dyfV6if4"
   },
   "outputs": [],
   "source": [
    "from sklearn.model_selection import train_test_split"
   ]
  },
  {
   "cell_type": "code",
   "execution_count": 6,
   "metadata": {
    "id": "MV38_a-V6o6K"
   },
   "outputs": [],
   "source": [
    "X_train, X_val, y_train, y_val = train_test_split(Xtr_standardized, ytr_standardized, test_size=0.2, shuffle=True, random_state=42)\n",
    "X_train2, X_val2, y_train2, y_val2 = train_test_split(Xtr_standardized2, ytr_standardized2, test_size=0.2, shuffle=True, random_state=42)"
   ]
  },
  {
   "cell_type": "markdown",
   "metadata": {
    "id": "UOl8otYl-eZa"
   },
   "source": [
    "# Step1. Without feature selection, try the logistic regression method."
   ]
  },
  {
   "cell_type": "markdown",
   "metadata": {},
   "source": [
    "Try StandardScaler."
   ]
  },
  {
   "cell_type": "code",
   "execution_count": 7,
   "metadata": {
    "colab": {
     "base_uri": "https://localhost:8080/"
    },
    "id": "57PLrYsDz-S3",
    "outputId": "0a4a2722-cc25-43fe-d543-59e0c87f9488"
   },
   "outputs": [
    {
     "name": "stdout",
     "output_type": "stream",
     "text": [
      "training auc:  0.823108820797503\n"
     ]
    }
   ],
   "source": [
    "lr = LogisticRegression()\n",
    "lr.fit(Xtr_standardized, ytr_standardized)\n",
    "\n",
    "auc = roc_auc_score(ytr_standardized,lr.decision_function(Xtr_standardized))\n",
    "print('training auc: ',auc)"
   ]
  },
  {
   "cell_type": "markdown",
   "metadata": {
    "id": "QBMWALzLCJK-"
   },
   "source": [
    "Try L1."
   ]
  },
  {
   "cell_type": "code",
   "execution_count": 8,
   "metadata": {
    "id": "u13JNcd88aeU"
   },
   "outputs": [],
   "source": [
    "C_list = [1e-3, 0.01, 0.1, 1, 10, 100, 1000]"
   ]
  },
  {
   "cell_type": "code",
   "execution_count": 9,
   "metadata": {
    "colab": {
     "base_uri": "https://localhost:8080/"
    },
    "id": "qv5H5Ya-8CWL",
    "outputId": "78d39749-d0aa-4159-ae1f-f3739d69c3fa",
    "scrolled": true
   },
   "outputs": [
    {
     "name": "stdout",
     "output_type": "stream",
     "text": [
      "val auc:  0.8116068504249193 0.001\n",
      "val auc:  0.8216092637603213 0.01\n",
      "val auc:  0.8216954543103894 0.1\n",
      "val auc:  0.821878609229284 1\n",
      "val auc:  0.8218904604299184 10\n",
      "val auc:  0.8218915378117942 100\n",
      "val auc:  0.821893692575546 1000\n"
     ]
    }
   ],
   "source": [
    "for C in C_list:\n",
    "    lr = LogisticRegression(penalty='l1', C=C, solver='liblinear')\n",
    "    lr.fit(X_train, y_train)\n",
    "\n",
    "    auc = roc_auc_score(y_val,lr.decision_function(X_val))\n",
    "    print('val auc: ',auc, C)"
   ]
  },
  {
   "cell_type": "markdown",
   "metadata": {
    "id": "4K3_43cDCRBS"
   },
   "source": [
    "Try L2."
   ]
  },
  {
   "cell_type": "code",
   "execution_count": 10,
   "metadata": {
    "colab": {
     "base_uri": "https://localhost:8080/"
    },
    "id": "vtWd0YqB9GmU",
    "outputId": "2d9a8f9a-d078-4980-8982-e98eae783787"
   },
   "outputs": [
    {
     "name": "stdout",
     "output_type": "stream",
     "text": [
      "val auc:  0.820800149971557 0.001\n",
      "val auc:  0.8227846873868749 0.01\n",
      "val auc:  0.8220865439313233 0.1\n",
      "val auc:  0.8219217045043181 1\n",
      "val auc:  0.8218872282842911 10\n",
      "val auc:  0.8218872282842908 100\n",
      "val auc:  0.8218850735205392 1000\n"
     ]
    }
   ],
   "source": [
    "for C in C_list:\n",
    "    lr = LogisticRegression(penalty='l2', C=C)\n",
    "    lr.fit(X_train, y_train)\n",
    "\n",
    "    auc = roc_auc_score(y_val,lr.decision_function(X_val))\n",
    "    print('val auc: ',auc, C)"
   ]
  },
  {
   "cell_type": "markdown",
   "metadata": {
    "id": "XO1LLfMqCVtf"
   },
   "source": [
    "Try not using penalty."
   ]
  },
  {
   "cell_type": "code",
   "execution_count": 11,
   "metadata": {
    "colab": {
     "base_uri": "https://localhost:8080/"
    },
    "id": "6mzHqDC893fF",
    "outputId": "12027524-6a37-4a8b-dffd-f194776ba6c0"
   },
   "outputs": [
    {
     "name": "stdout",
     "output_type": "stream",
     "text": [
      "val auc:  0.8218850735205392\n"
     ]
    }
   ],
   "source": [
    "lr = LogisticRegression(penalty='none')\n",
    "lr.fit(X_train, y_train)\n",
    "\n",
    "auc = roc_auc_score(y_val,lr.decision_function(X_val))\n",
    "print('val auc: ',auc)"
   ]
  },
  {
   "cell_type": "markdown",
   "metadata": {
    "id": "mzPRO6UFCafs"
   },
   "source": [
    "The performance is not excellent"
   ]
  },
  {
   "cell_type": "markdown",
   "metadata": {
    "id": "5FHPegbTCfnI"
   },
   "source": [
    "Try MinMaxScaler."
   ]
  },
  {
   "cell_type": "code",
   "execution_count": 12,
   "metadata": {
    "colab": {
     "base_uri": "https://localhost:8080/"
    },
    "id": "22Zi2E_n-E_I",
    "outputId": "5cd60fdb-7a18-4775-b76b-5518843a87e7"
   },
   "outputs": [
    {
     "name": "stdout",
     "output_type": "stream",
     "text": [
      "val auc:  0.6287298960541966 0.001\n",
      "val auc:  0.8136355604971471 0.01\n",
      "val auc:  0.8216308113978383 0.1\n",
      "val auc:  0.8220563772387997 1\n",
      "val auc:  0.8219120080674355 10\n",
      "val auc:  0.8219195497405666 100\n",
      "val auc:  0.8219098533036837 1000\n"
     ]
    }
   ],
   "source": [
    "for C in C_list:\n",
    "    lr = LogisticRegression(penalty='l1', C=C, solver='liblinear')\n",
    "    lr.fit(X_train2, y_train2)\n",
    "\n",
    "    auc = roc_auc_score(y_val2,lr.decision_function(X_val2))\n",
    "    print('val auc: ',auc, C)"
   ]
  },
  {
   "cell_type": "code",
   "execution_count": 13,
   "metadata": {
    "colab": {
     "base_uri": "https://localhost:8080/"
    },
    "id": "JmMgQh7j-E_J",
    "outputId": "5d82388b-20a9-4add-e627-36845f4d9905"
   },
   "outputs": [
    {
     "name": "stdout",
     "output_type": "stream",
     "text": [
      "val auc:  0.8124213511230629 0.001\n",
      "val auc:  0.817535682887728 0.01\n",
      "val auc:  0.8223268000896382 0.1\n",
      "val auc:  0.8228805743738256 1\n",
      "val auc:  0.8220434486562893 10\n",
      "val auc:  0.8219173949768147 100\n",
      "val auc:  0.8218904604299184 1000\n"
     ]
    }
   ],
   "source": [
    "for C in C_list:\n",
    "    lr = LogisticRegression(penalty='l2', C=C)\n",
    "    lr.fit(X_train2, y_train2)\n",
    "\n",
    "    auc = roc_auc_score(y_val2,lr.decision_function(X_val2))\n",
    "    print('val auc: ',auc, C)"
   ]
  },
  {
   "cell_type": "code",
   "execution_count": 14,
   "metadata": {
    "colab": {
     "base_uri": "https://localhost:8080/"
    },
    "id": "_O9q-O29-E_J",
    "outputId": "80af2c06-fae5-42eb-f29a-0739364feeb6"
   },
   "outputs": [
    {
     "name": "stdout",
     "output_type": "stream",
     "text": [
      "val auc:  0.8218872282842908\n"
     ]
    }
   ],
   "source": [
    "lr = LogisticRegression(penalty='none')\n",
    "lr.fit(X_train2, y_train2)\n",
    "\n",
    "auc = roc_auc_score(y_val2,lr.decision_function(X_val2))\n",
    "print('val auc: ',auc)"
   ]
  },
  {
   "cell_type": "markdown",
   "metadata": {
    "id": "poWPr3fdCiNH"
   },
   "source": [
    "The performance is not excellent,either."
   ]
  },
  {
   "cell_type": "markdown",
   "metadata": {
    "id": "UOl8otYl-eZa"
   },
   "source": [
    "# Step2. Without feature selection, try the SVM method."
   ]
  },
  {
   "cell_type": "markdown",
   "metadata": {},
   "source": [
    "Try StandardScaler."
   ]
  },
  {
   "cell_type": "code",
   "execution_count": 15,
   "metadata": {
    "id": "d6vZy88U-1Pt"
   },
   "outputs": [],
   "source": [
    "from sklearn import svm"
   ]
  },
  {
   "cell_type": "markdown",
   "metadata": {
    "id": "ZU_owA_fCk8p"
   },
   "source": [
    "Tune the parameter C and try different kernels."
   ]
  },
  {
   "cell_type": "code",
   "execution_count": 16,
   "metadata": {
    "id": "MmG-rHF5-8xm"
   },
   "outputs": [],
   "source": [
    "kernel_list = ['linear', 'poly', 'rbf', 'sigmoid']\n",
    "C_list = [1e-3, 0.01, 0.1, 1, 10]"
   ]
  },
  {
   "cell_type": "code",
   "execution_count": 17,
   "metadata": {
    "colab": {
     "base_uri": "https://localhost:8080/"
    },
    "id": "txzBG4_T_TTn",
    "outputId": "a4214fb8-4136-4d78-9723-83e33a62f5f5"
   },
   "outputs": [
    {
     "name": "stdout",
     "output_type": "stream",
     "text": [
      "val auc:  0.8227265087655788 linear 0.001\n",
      "val auc:  0.8228805743738257 linear 0.01\n",
      "val auc:  0.8225056454810294 linear 0.1\n",
      "val auc:  0.8224668597334988 linear 1\n",
      "val auc:  0.8224711692610023 linear 10\n",
      "val auc:  0.809127794728586 poly 0.001\n",
      "val auc:  0.8312701470410784 poly 0.01\n",
      "val auc:  0.8402490475944219 poly 0.1\n",
      "val auc:  0.8440435865611695 poly 1\n",
      "val auc:  0.8397588388409096 poly 10\n",
      "val auc:  0.8334389167571667 rbf 0.001\n",
      "val auc:  0.8385263139749357 rbf 0.01\n",
      "val auc:  0.8790757356363449 rbf 0.1\n",
      "val auc:  0.8923673958387203 rbf 1\n",
      "val auc:  0.8980699781076004 rbf 10\n",
      "val auc:  0.8018899432866181 sigmoid 0.001\n",
      "val auc:  0.7747463843064246 sigmoid 0.01\n",
      "val auc:  0.6339713588802123 sigmoid 0.1\n",
      "val auc:  0.6141249073451587 sigmoid 1\n",
      "val auc:  0.612718923997173 sigmoid 10\n"
     ]
    }
   ],
   "source": [
    "for kernel in kernel_list:\n",
    "    for C in C_list:\n",
    "        SVM = svm.SVC(kernel=kernel, C=C)\n",
    "        SVM.fit(X_train, y_train)\n",
    "\n",
    "        auc = roc_auc_score(y_val,SVM.decision_function(X_val))\n",
    "        print('val auc: ',auc, kernel, C)"
   ]
  },
  {
   "cell_type": "markdown",
   "metadata": {
    "id": "br_oJs4nCoBF"
   },
   "source": [
    "RBF is much better than others."
   ]
  },
  {
   "cell_type": "code",
   "execution_count": 18,
   "metadata": {
    "colab": {
     "base_uri": "https://localhost:8080/"
    },
    "id": "WuY9Riy7BnMM",
    "outputId": "c80f6f65-e230-43b3-83e0-9af215eecda3"
   },
   "outputs": [
    {
     "name": "stdout",
     "output_type": "stream",
     "text": [
      "val auc:  0.897507584768406 rbf 5\n",
      "val auc:  0.8980699781076004 rbf 10\n",
      "val auc:  0.8982445139714882 rbf 15\n",
      "val auc:  0.8987261036699936 rbf 20\n",
      "val auc:  0.8981647877126753 rbf 30\n"
     ]
    }
   ],
   "source": [
    "C_list2 = [5,10,15,20,30]\n",
    "for C in C_list2:\n",
    "    SVM = svm.SVC(kernel='rbf', C=C)\n",
    "    SVM.fit(X_train, y_train)\n",
    "\n",
    "    auc = roc_auc_score(y_val,SVM.decision_function(X_val))\n",
    "    print('val auc: ',auc, 'rbf', C)"
   ]
  },
  {
   "cell_type": "markdown",
   "metadata": {
    "id": "w8c4eoD2CtNe"
   },
   "source": [
    "Try tuning gamma and shrink."
   ]
  },
  {
   "cell_type": "code",
   "execution_count": 19,
   "metadata": {
    "colab": {
     "base_uri": "https://localhost:8080/"
    },
    "id": "A6UK5KfzILSY",
    "outputId": "4c4a9e30-2ab3-493c-caec-e822f7565597"
   },
   "outputs": [
    {
     "name": "stdout",
     "output_type": "stream",
     "text": [
      "val auc:  0.8988122942200618\n"
     ]
    }
   ],
   "source": [
    "SVM = svm.SVC(kernel='rbf', C=20, gamma='auto')\n",
    "SVM.fit(X_train, y_train)\n",
    "\n",
    "auc = roc_auc_score(y_val,SVM.decision_function(X_val))\n",
    "print('val auc: ',auc)"
   ]
  },
  {
   "cell_type": "code",
   "execution_count": 20,
   "metadata": {
    "colab": {
     "base_uri": "https://localhost:8080/"
    },
    "id": "lROADwRaIbwl",
    "outputId": "f109133d-d11f-4af7-805f-dfddc25b4216"
   },
   "outputs": [
    {
     "name": "stdout",
     "output_type": "stream",
     "text": [
      "val auc:  0.8988079846925583\n"
     ]
    }
   ],
   "source": [
    "SVM = svm.SVC(kernel='rbf', C=20, gamma='auto', shrinking=False)\n",
    "SVM.fit(X_train, y_train)\n",
    "\n",
    "auc = roc_auc_score(y_val,SVM.decision_function(X_val))\n",
    "print('val auc: ',auc)"
   ]
  },
  {
   "cell_type": "code",
   "execution_count": 21,
   "metadata": {
    "colab": {
     "base_uri": "https://localhost:8080/"
    },
    "id": "p7kva0vvI_ab",
    "outputId": "04c2778d-f6c1-4a53-af66-e7b618d88b14"
   },
   "outputs": [
    {
     "name": "stdout",
     "output_type": "stream",
     "text": [
      "val auc:  0.898441674854769 rbf 15\n",
      "val auc:  0.8986237523917879 rbf 17\n",
      "val auc:  0.8987853596731655 rbf 19\n",
      "val auc:  0.8987842822912896 rbf 21\n",
      "val auc:  0.8985925083173881 rbf 23\n",
      "val auc:  0.8984352105635137 rbf 25\n"
     ]
    }
   ],
   "source": [
    "C_list2 = [i for i in range(15,26,2)]\n",
    "for C in C_list2:\n",
    "    SVM = svm.SVC(kernel='rbf', C=C, gamma='auto')\n",
    "    SVM.fit(X_train, y_train)\n",
    "\n",
    "    auc = roc_auc_score(y_val,SVM.decision_function(X_val))\n",
    "    print('val auc: ',auc, 'rbf', C)"
   ]
  },
  {
   "cell_type": "markdown",
   "metadata": {
    "id": "ekN3FKTHC-Gx"
   },
   "source": [
    "Try tuning gamma."
   ]
  },
  {
   "cell_type": "code",
   "execution_count": 22,
   "metadata": {
    "colab": {
     "base_uri": "https://localhost:8080/"
    },
    "id": "BzaQB8rCKi9G",
    "outputId": "9460748c-aeee-4653-a1f0-9f1d7be472a1"
   },
   "outputs": [
    {
     "name": "stdout",
     "output_type": "stream",
     "text": [
      "val auc:  0.8986819310130838 rbf 10 0.1\n",
      "val auc:  0.8935503611384048 rbf 10 0.2\n",
      "val auc:  0.882201220458189 rbf 10 0.4\n",
      "val auc:  0.8709511989105515 rbf 10 0.6\n",
      "val auc:  0.8567179069486822 rbf 10 0.8\n",
      "val auc:  0.8289171450242195 rbf 10 1.6\n",
      "val auc:  0.8090890089810553 rbf 10 3.2\n",
      "val auc:  0.7907826748375308 rbf 10 6.4\n",
      "val auc:  0.7702633983210081 rbf 10 12.8\n",
      "val auc:  0.8991678302390925 rbf 15 0.1\n",
      "val auc:  0.8932271465756495 rbf 15 0.2\n",
      "val auc:  0.8799775042664324 rbf 15 0.4\n",
      "val auc:  0.8655599800037924 rbf 15 0.6\n",
      "val auc:  0.850437847994346 rbf 15 0.8\n",
      "val auc:  0.824187438589233 rbf 15 1.6\n",
      "val auc:  0.8086138835738049 rbf 15 3.2\n",
      "val auc:  0.7907826748375308 rbf 15 6.4\n",
      "val auc:  0.7702633983210081 rbf 15 12.8\n",
      "val auc:  0.8999521642447122 rbf 20 0.1\n",
      "val auc:  0.8924040268224993 rbf 20 0.2\n",
      "val auc:  0.8781728896243814 rbf 20 0.4\n",
      "val auc:  0.8613969764355036 rbf 20 0.6\n",
      "val auc:  0.8461250883453139 rbf 20 0.8\n",
      "val auc:  0.8214648945889573 rbf 20 1.6\n",
      "val auc:  0.8086138835738049 rbf 20 3.2\n",
      "val auc:  0.7907826748375308 rbf 20 6.4\n",
      "val auc:  0.7702633983210081 rbf 20 12.8\n",
      "val auc:  0.9005113254382788 rbf 25 0.1\n",
      "val auc:  0.8912469186878351 rbf 25 0.2\n",
      "val auc:  0.8766731740531968 rbf 25 0.4\n",
      "val auc:  0.8576132112875144 rbf 25 0.6\n",
      "val auc:  0.8425244781162193 rbf 25 0.8\n",
      "val auc:  0.8199479409077589 rbf 25 1.6\n",
      "val auc:  0.8086138835738049 rbf 25 3.2\n",
      "val auc:  0.7907826748375308 rbf 25 6.4\n",
      "val auc:  0.7702633983210081 rbf 25 12.8\n",
      "val auc:  0.9004703849269966 rbf 30 0.1\n",
      "val auc:  0.8902815845270725 rbf 30 0.2\n",
      "val auc:  0.8746046008515624 rbf 30 0.4\n",
      "val auc:  0.8542905655823896 rbf 30 0.6\n",
      "val auc:  0.8396381720708141 rbf 30 0.8\n",
      "val auc:  0.8184988622847392 rbf 30 1.6\n",
      "val auc:  0.8086138835738049 rbf 30 3.2\n",
      "val auc:  0.7907826748375308 rbf 30 6.4\n",
      "val auc:  0.7702633983210081 rbf 30 12.8\n"
     ]
    }
   ],
   "source": [
    "C_list2 = [i for i in range(10,31,5)]\n",
    "g_list = [0.1,0.2,0.4,0.6,0.8,1.6,3.2,6.4,12.8]\n",
    "for C in C_list2:\n",
    "    for g in g_list:\n",
    "        SVM = svm.SVC(kernel='rbf', C=C, gamma=g)\n",
    "        SVM.fit(X_train, y_train)\n",
    "\n",
    "        auc = roc_auc_score(y_val,SVM.decision_function(X_val))\n",
    "        print('val auc: ',auc, 'rbf', C, g)"
   ]
  },
  {
   "cell_type": "code",
   "execution_count": 23,
   "metadata": {
    "colab": {
     "base_uri": "https://localhost:8080/"
    },
    "id": "ffcUtubILpd5",
    "outputId": "22f2d88d-460b-4193-bb18-9d183c675715"
   },
   "outputs": [
    {
     "name": "stdout",
     "output_type": "stream",
     "text": [
      "val auc:  0.8843624485011465 rbf 10 0.01\n",
      "val auc:  0.8911661150471463 rbf 10 0.02\n",
      "val auc:  0.8964819172225957 rbf 10 0.04\n",
      "val auc:  0.8996709675751151 rbf 10 0.06\n",
      "val auc:  0.8999629380634708 rbf 10 0.08\n",
      "val auc:  0.8859871403699299 rbf 15 0.01\n",
      "val auc:  0.8934954146627363 rbf 15 0.02\n",
      "val auc:  0.8986323714467945 rbf 15 0.04\n",
      "val auc:  0.9010263139749357 rbf 15 0.06\n",
      "val auc:  0.8996979021220114 rbf 15 0.08\n",
      "val auc:  0.8879059574908207 rbf 20 0.01\n",
      "val auc:  0.8946460585061453 rbf 20 0.02\n",
      "val auc:  0.9000749857785592 rbf 20 0.04\n",
      "val auc:  0.9010909568874867 rbf 20 0.06\n",
      "val auc:  0.8990762527796452 rbf 20 0.08\n",
      "val auc:  0.888952095292272 rbf 25 0.01\n",
      "val auc:  0.8956167795762872 rbf 25 0.02\n",
      "val auc:  0.9009918377549087 rbf 25 0.04\n",
      "val auc:  0.9012988915895261 rbf 25 0.06\n",
      "val auc:  0.8999575511540915 rbf 25 0.08\n",
      "val auc:  0.8898624829773663 rbf 30 0.01\n",
      "val auc:  0.8962815241936875 rbf 30 0.02\n",
      "val auc:  0.9013312130458015 rbf 30 0.04\n",
      "val auc:  0.9014033976314837 rbf 30 0.06\n",
      "val auc:  0.9009508972436262 rbf 30 0.08\n"
     ]
    }
   ],
   "source": [
    "C_list2 = [i for i in range(10,31,5)]\n",
    "g_list = [0.01,0.02,0.04,0.06,0.08]\n",
    "for C in C_list2:\n",
    "    for g in g_list:\n",
    "        SVM = svm.SVC(kernel='rbf', C=C, gamma=g)\n",
    "        SVM.fit(X_train, y_train)\n",
    "\n",
    "        auc = roc_auc_score(y_val,SVM.decision_function(X_val))\n",
    "        print('val auc: ',auc, 'rbf', C, g)"
   ]
  },
  {
   "cell_type": "markdown",
   "metadata": {
    "id": "GOtPJQZ1DG4R"
   },
   "source": [
    "It looks a little bit better."
   ]
  },
  {
   "cell_type": "markdown",
   "metadata": {
    "id": "XQvcSg7iDsJ7"
   },
   "source": [
    "Try MinMaxScaler."
   ]
  },
  {
   "cell_type": "code",
   "execution_count": 24,
   "metadata": {
    "colab": {
     "base_uri": "https://localhost:8080/"
    },
    "id": "6DZAzj_2JdZC",
    "outputId": "de40bf6b-c578-462f-de16-279a158e44e1"
   },
   "outputs": [
    {
     "name": "stdout",
     "output_type": "stream",
     "text": [
      "val auc:  0.8599015703918224 rbf 15\n",
      "val auc:  0.8612547620278913 rbf 17\n",
      "val auc:  0.8625486976607886 rbf 19\n",
      "val auc:  0.863572210442847 rbf 21\n",
      "val auc:  0.8642477288790058 rbf 23\n",
      "val auc:  0.8649609556808193 rbf 25\n"
     ]
    }
   ],
   "source": [
    "C_list2 = [i for i in range(15,26,2)]\n",
    "for C in C_list2:\n",
    "    SVM = svm.SVC(kernel='rbf', C=C, gamma='auto')\n",
    "    SVM.fit(X_train2, y_train2)\n",
    "\n",
    "    auc = roc_auc_score(y_val2,SVM.decision_function(X_val2))\n",
    "    print('val auc: ',auc, 'rbf', C)"
   ]
  },
  {
   "cell_type": "code",
   "execution_count": 25,
   "metadata": {
    "colab": {
     "base_uri": "https://localhost:8080/"
    },
    "id": "f8cc_t-sBJj2",
    "outputId": "7528e158-4f69-4fd2-deaf-f95003d6be50"
   },
   "outputs": [
    {
     "name": "stdout",
     "output_type": "stream",
     "text": [
      "val auc:  0.8180797607350331 linear 0.001\n",
      "val auc:  0.8191539104652567 linear 0.01\n",
      "val auc:  0.8230087828170519 linear 0.1\n",
      "val auc:  0.8227545206943512 linear 1\n",
      "val auc:  0.8225358121735532 linear 10\n",
      "val auc:  0.8124730654531037 poly 0.001\n",
      "val auc:  0.831287385151092 poly 0.01\n",
      "val auc:  0.8524794866490839 poly 0.1\n",
      "val auc:  0.8695279774525521 poly 1\n",
      "val auc:  0.8795487062798435 poly 10\n",
      "val auc:  0.8165962058919859 rbf 0.001\n",
      "val auc:  0.8236390512144247 rbf 0.01\n",
      "val auc:  0.8511650807605454 rbf 0.1\n",
      "val auc:  0.8773702401268725 rbf 1\n",
      "val auc:  0.8844098533036838 rbf 10\n",
      "val auc:  0.6230154625846822 sigmoid 0.001\n",
      "val auc:  0.6231576769922946 sigmoid 0.01\n",
      "val auc:  0.6231458257916601 sigmoid 0.1\n",
      "val auc:  0.6580336056954715 sigmoid 1\n",
      "val auc:  0.6481787936770612 sigmoid 10\n"
     ]
    }
   ],
   "source": [
    "for kernel in kernel_list:\n",
    "    for C in C_list:\n",
    "        SVM = svm.SVC(kernel=kernel, C=C)\n",
    "        SVM.fit(X_train2, y_train2)\n",
    "\n",
    "        auc = roc_auc_score(y_val2,SVM.decision_function(X_val2))\n",
    "        print('val auc: ',auc, kernel, C)"
   ]
  },
  {
   "cell_type": "code",
   "execution_count": 26,
   "metadata": {
    "colab": {
     "base_uri": "https://localhost:8080/"
    },
    "id": "HkFVEnfACE26",
    "outputId": "04244864-52f8-4390-dd97-61ca36d5fd1c"
   },
   "outputs": [
    {
     "name": "stdout",
     "output_type": "stream",
     "text": [
      "val auc:  0.8831665546189515 rbf 5\n",
      "val auc:  0.8844098533036838 rbf 10\n",
      "val auc:  0.8851920325455518 rbf 15\n",
      "val auc:  0.8865656944372619 rbf 20\n",
      "val auc:  0.8873306355691162 rbf 30\n"
     ]
    }
   ],
   "source": [
    "C_list2 = [5,10,15,20,30]\n",
    "for C in C_list2:\n",
    "    SVM = svm.SVC(kernel='rbf', C=C)\n",
    "    SVM.fit(X_train2, y_train2)\n",
    "\n",
    "    auc = roc_auc_score(y_val2,SVM.decision_function(X_val2))\n",
    "    print('val auc: ',auc, 'rbf', C)"
   ]
  },
  {
   "cell_type": "code",
   "execution_count": 27,
   "metadata": {
    "colab": {
     "base_uri": "https://localhost:8080/"
    },
    "id": "P3Zl_VtsCOJH",
    "outputId": "4664c313-c5eb-4660-9d91-7ad1422424d7"
   },
   "outputs": [
    {
     "name": "stdout",
     "output_type": "stream",
     "text": [
      "val auc:  0.8875127131061351 rbf 40\n",
      "val auc:  0.8881763803416594 rbf 60\n",
      "val auc:  0.8886482736032821 rbf 80\n",
      "val auc:  0.888663356949544 rbf 100\n"
     ]
    }
   ],
   "source": [
    "C_list2 = [40,60,80,100]\n",
    "for C in C_list2:\n",
    "    SVM = svm.SVC(kernel='rbf', C=C)\n",
    "    SVM.fit(X_train2, y_train2)\n",
    "\n",
    "    auc = roc_auc_score(y_val2,SVM.decision_function(X_val2))\n",
    "    print('val auc: ',auc, 'rbf', C)"
   ]
  },
  {
   "cell_type": "code",
   "execution_count": 28,
   "metadata": {
    "colab": {
     "base_uri": "https://localhost:8080/"
    },
    "id": "gsehtmPpCIx8",
    "outputId": "8fcbb6c4-c03a-4cab-8eb0-9f560676a56a"
   },
   "outputs": [
    {
     "name": "stdout",
     "output_type": "stream",
     "text": [
      "val auc:  0.8769705314509317 poly 5\n",
      "val auc:  0.8795487062798435 poly 10\n",
      "val auc:  0.8802414628260159 poly 15\n",
      "val auc:  0.8810462670872766 poly 20\n",
      "val auc:  0.8815267794039062 poly 30\n"
     ]
    }
   ],
   "source": [
    "C_list2 = [5,10,15,20,30]\n",
    "for C in C_list2:\n",
    "    SVM = svm.SVC(kernel='poly', C=C)\n",
    "    SVM.fit(X_train2, y_train2)\n",
    "\n",
    "    auc = roc_auc_score(y_val2,SVM.decision_function(X_val2))\n",
    "    print('val auc: ',auc, 'poly', C)"
   ]
  },
  {
   "cell_type": "code",
   "execution_count": 29,
   "metadata": {
    "colab": {
     "base_uri": "https://localhost:8080/"
    },
    "id": "piQGSAbHCkVA",
    "outputId": "2d4f553d-2ee6-47ca-c677-29095b065851"
   },
   "outputs": [
    {
     "name": "stdout",
     "output_type": "stream",
     "text": [
      "val auc:  0.882165666856286 poly 40\n",
      "val auc:  0.8833540190653497 poly 60\n",
      "val auc:  0.8839767457895916 poly 80\n",
      "val auc:  0.8843484425367604 poly 100\n"
     ]
    }
   ],
   "source": [
    "C_list2 = [40,60,80,100]\n",
    "for C in C_list2:\n",
    "    SVM = svm.SVC(kernel='poly', C=C)\n",
    "    SVM.fit(X_train2, y_train2)\n",
    "\n",
    "    auc = roc_auc_score(y_val2,SVM.decision_function(X_val2))\n",
    "    print('val auc: ',auc, 'poly', C)"
   ]
  },
  {
   "cell_type": "code",
   "execution_count": 30,
   "metadata": {},
   "outputs": [
    {
     "name": "stdout",
     "output_type": "stream",
     "text": [
      "val auc:  0.8070624536725793 rbf 10 0.1\n",
      "val auc:  0.8219270914136975 rbf 10 0.2\n",
      "val auc:  0.7827480994983711 rbf 10 0.4\n",
      "val auc:  0.7433676371722605 rbf 10 0.6\n",
      "val auc:  0.7126390900001724 rbf 10 0.8\n",
      "val auc:  0.6640631733636724 rbf 10 1.6\n",
      "val auc:  0.6557236989536467 rbf 10 3.2\n",
      "val auc:  0.6182836013859441 rbf 10 6.4\n",
      "val auc:  0.5521452827911949 rbf 10 12.8\n",
      "val auc:  0.8309275396045578 rbf 15 0.1\n",
      "val auc:  0.8255740290634536 rbf 15 0.2\n",
      "val auc:  0.7770304338832289 rbf 15 0.4\n",
      "val auc:  0.7397664882522279 rbf 15 0.6\n",
      "val auc:  0.699354971470928 rbf 15 0.8\n",
      "val auc:  0.6571544620847771 rbf 15 1.6\n",
      "val auc:  0.6587123562772578 rbf 15 3.2\n",
      "val auc:  0.6092960817775939 rbf 15 6.4\n",
      "val auc:  0.5485802261640034 rbf 15 12.8\n",
      "val auc:  0.843446717001948 rbf 20 0.1\n",
      "val auc:  0.8253908741445588 rbf 20 0.2\n",
      "val auc:  0.7747205271414042 rbf 20 0.4\n",
      "val auc:  0.7306954715484993 rbf 20 0.6\n",
      "val auc:  0.6986072684490874 rbf 20 0.8\n",
      "val auc:  0.6585135793211632 rbf 20 1.6\n",
      "val auc:  0.6532441045663755 rbf 20 3.2\n",
      "val auc:  0.5991557635620831 rbf 20 6.4\n",
      "val auc:  0.5429180457154678 rbf 20 12.8\n",
      "val auc:  0.8483046318801607 rbf 25 0.1\n",
      "val auc:  0.8254102670183241 rbf 25 0.2\n",
      "val auc:  0.7724935788040199 rbf 25 0.4\n",
      "val auc:  0.7252848597679751 rbf 25 0.6\n",
      "val auc:  0.697342422126838 rbf 25 0.8\n",
      "val auc:  0.6527000267190705 rbf 25 1.6\n",
      "val auc:  0.6466871584699453 rbf 25 3.2\n",
      "val auc:  0.5943210123942011 rbf 25 6.4\n",
      "val auc:  0.5404966299494922 rbf 25 12.8\n",
      "val auc:  0.8503451931530226 rbf 30 0.1\n",
      "val auc:  0.823840521625209 rbf 30 0.2\n",
      "val auc:  0.7685966885590664 rbf 30 0.4\n",
      "val auc:  0.7181585173501578 rbf 30 0.6\n",
      "val auc:  0.6933119365292789 rbf 30 0.8\n",
      "val auc:  0.6557290858630259 rbf 30 1.6\n",
      "val auc:  0.640936094016652 rbf 30 3.2\n",
      "val auc:  0.5981441019806588 rbf 30 6.4\n",
      "val auc:  0.5391472091499888 rbf 30 12.8\n"
     ]
    }
   ],
   "source": [
    "C_list2 = [i for i in range(10,31,5)]\n",
    "g_list = [0.1,0.2,0.4,0.6,0.8,1.6,3.2,6.4,12.8]\n",
    "for C in C_list2:\n",
    "    for g in g_list:\n",
    "        SVM = svm.SVC(kernel='rbf', C=C, gamma=g)\n",
    "        SVM.fit(X_train2, y_train2)\n",
    "\n",
    "        auc = roc_auc_score(y_val,SVM.decision_function(X_val))\n",
    "        print('val auc: ',auc, 'rbf', C, g)"
   ]
  },
  {
   "cell_type": "code",
   "execution_count": 31,
   "metadata": {},
   "outputs": [
    {
     "name": "stdout",
     "output_type": "stream",
     "text": [
      "val auc:  0.8118611125476203 rbf 10 0.01\n",
      "val auc:  0.8239051645377602 rbf 10 0.02\n",
      "val auc:  0.7861396976435504 rbf 10 0.04\n",
      "val auc:  0.7753152419368741 rbf 10 0.06\n",
      "val auc:  0.7861440071710537 rbf 10 0.08\n",
      "val auc:  0.8070624536725793 rbf 10 0.1\n",
      "val auc:  0.8125247797831445 rbf 10 0.11\n",
      "val auc:  0.8176703556222096 rbf 10 0.12\n",
      "val auc:  0.8231154436227612 rbf 10 0.13\n",
      "val auc:  0.8261396545482752 rbf 10 0.14\n",
      "val auc:  0.8169269621278723 rbf 15 0.01\n",
      "val auc:  0.8230960507489959 rbf 15 0.02\n",
      "val auc:  0.7885487235179536 rbf 15 0.04\n",
      "val auc:  0.7940735377773182 rbf 15 0.06\n",
      "val auc:  0.8166511523676544 rbf 15 0.08\n",
      "val auc:  0.8309275396045578 rbf 15 0.1\n",
      "val auc:  0.8363273775663237 rbf 15 0.11\n",
      "val auc:  0.8380468790401822 rbf 15 0.12\n",
      "val auc:  0.838799968971402 rbf 15 0.13\n",
      "val auc:  0.8381395338815052 rbf 15 0.14\n",
      "val auc:  0.8203541138749547 rbf 20 0.01\n",
      "val auc:  0.8220046629087587 rbf 20 0.02\n",
      "val auc:  0.7932601144610505 rbf 20 0.04\n",
      "val auc:  0.8116617969005878 rbf 20 0.06\n",
      "val auc:  0.8341973935977659 rbf 20 0.08\n",
      "val auc:  0.843446717001948 rbf 20 0.1\n",
      "val auc:  0.8445995156091085 rbf 20 0.11\n",
      "val auc:  0.8440629794349348 rbf 20 0.12\n",
      "val auc:  0.8427518056920239 rbf 20 0.13\n",
      "val auc:  0.8408351433348847 rbf 20 0.14\n",
      "val auc:  0.8237101584182309 rbf 25 0.01\n",
      "val auc:  0.8209488286704245 rbf 25 0.02\n",
      "val auc:  0.8014945441381807 rbf 25 0.04\n",
      "val auc:  0.8266298633017877 rbf 25 0.06\n",
      "val auc:  0.8445111702952888 rbf 25 0.08\n",
      "val auc:  0.8483046318801607 rbf 25 0.1\n",
      "val auc:  0.8476032562789815 rbf 25 0.11\n",
      "val auc:  0.8458740583682405 rbf 25 0.12\n",
      "val auc:  0.8440478960886728 rbf 25 0.13\n",
      "val auc:  0.8412779472858596 rbf 25 0.14\n",
      "val auc:  0.825989898467532 rbf 30 0.01\n",
      "val auc:  0.817848123631725 rbf 30 0.02\n",
      "val auc:  0.8096136939545948 rbf 30 0.04\n",
      "val auc:  0.8372862474358311 rbf 30 0.06\n",
      "val auc:  0.8494207995035423 rbf 30 0.08\n",
      "val auc:  0.8503451931530226 rbf 30 0.1\n",
      "val auc:  0.8487646739411492 rbf 30 0.11\n",
      "val auc:  0.8468113806002309 rbf 30 0.12\n",
      "val auc:  0.8439800210304942 rbf 30 0.13\n",
      "val auc:  0.8416442571236491 rbf 30 0.14\n"
     ]
    }
   ],
   "source": [
    "C_list2 = [i for i in range(10,31,5)]\n",
    "g_list = [0.01,0.02,0.04,0.06,0.08,0.1,0.11,0.12,0.13,0.14]\n",
    "for C in C_list2:\n",
    "    for g in g_list:\n",
    "        SVM = svm.SVC(kernel='rbf', C=C, gamma=g)\n",
    "        SVM.fit(X_train2, y_train2)\n",
    "\n",
    "        auc = roc_auc_score(y_val,SVM.decision_function(X_val))\n",
    "        print('val auc: ',auc, 'rbf', C, g)"
   ]
  },
  {
   "cell_type": "markdown",
   "metadata": {
    "id": "U3bkvPkNDx8-"
   },
   "source": [
    "The performance using StandardScaler is better than that using MinMaxScaler."
   ]
  },
  {
   "cell_type": "markdown",
   "metadata": {
    "id": "-jAIUKv6GA99"
   },
   "source": [
    "# Step3. With feature selection, use the best method from step1 and step2."
   ]
  },
  {
   "cell_type": "markdown",
   "metadata": {},
   "source": [
    "Feature selection:L1 regularization tuned with GridSearchCV and a pipeline"
   ]
  },
  {
   "cell_type": "code",
   "execution_count": 32,
   "metadata": {
    "id": "g6926GzM17BN"
   },
   "outputs": [],
   "source": [
    "from sklearn import linear_model\n",
    "import sklearn\n",
    "import matplotlib.pyplot as plt"
   ]
  },
  {
   "cell_type": "code",
   "execution_count": 33,
   "metadata": {
    "colab": {
     "base_uri": "https://localhost:8080/",
     "height": 283
    },
    "id": "ebEhKSsm1iaC",
    "outputId": "bcde02b9-0e67-49d9-ad97-64f612553806"
   },
   "outputs": [],
   "source": [
    "from sklearn.model_selection import KFold\n",
    "from sklearn.pipeline import Pipeline\n",
    "from sklearn.feature_selection import SelectFromModel\n",
    "from sklearn.model_selection import GridSearchCV\n",
    "\n",
    "nfold = 10\n",
    "kf = KFold(n_splits=nfold,shuffle=True,random_state=1)\n",
    "\n",
    "pipe = Pipeline([\n",
    "  ('featsel',SelectFromModel(LogisticRegression(penalty='l1',solver='liblinear',warm_start=True,multi_class='ovr'))),\n",
    "  ('logreg', LogisticRegression(C=1e2))\n",
    "])\n",
    "\n",
    "npen = 20\n",
    "C_lasso = np.logspace(-2.7,-2.6,npen) \n",
    "parameters = {'featsel__estimator__C':C_lasso}\n",
    "gscv = GridSearchCV(pipe, parameters, cv=kf, scoring='accuracy')\n",
    "gscv.fit(Xtr_standardized,ytr_standardized);"
   ]
  },
  {
   "cell_type": "code",
   "execution_count": 34,
   "metadata": {
    "id": "VLPK_P492EoO"
   },
   "outputs": [
    {
     "name": "stdout",
     "output_type": "stream",
     "text": [
      "Accuracy via 10-fold CV is 0.792800 with SE=  4.4242e-03\n"
     ]
    },
    {
     "data": {
      "image/png": "[encoded data removed]",
      "text/plain": [
       "<Figure size 432x288 with 1 Axes>"
      ]
     },
     "metadata": {
      "needs_background": "light"
     },
     "output_type": "display_data"
    }
   ],
   "source": [
    "import matplotlib.pyplot as plt\n",
    "err_mean = 1-gscv.cv_results_['mean_test_score'] \n",
    "err_se = gscv.cv_results_['std_test_score']/np.sqrt(nfold-1)\n",
    "imin = np.argmin(err_mean)\n",
    "C_min = C_lasso[imin] \n",
    "\n",
    "plt.errorbar(np.log10(C_lasso), err_mean, marker='o',yerr=err_se)\n",
    "xmin, xmax, ymin, ymax = plt.axis()\n",
    "plt.plot(np.log10([C_min,C_min]),[ymin,ymax],'--')\n",
    "\n",
    "plt.grid()\n",
    "plt.xlabel('log10(C)')\n",
    "plt.ylabel('CV error-rate')\n",
    "\n",
    "print(\"Accuracy via 10-fold CV is %f with SE=%12.4e\" % (1-err_mean[imin],err_se[imin]))"
   ]
  },
  {
   "cell_type": "code",
   "execution_count": 35,
   "metadata": {
    "id": "csWap2gVzAwq"
   },
   "outputs": [
    {
     "name": "stdout",
     "output_type": "stream",
     "text": [
      "[ 0.          0.          0.5516908   0.03791757  0.          0.\n",
      "  0.         -0.82831351]\n"
     ]
    },
    {
     "data": {
      "image/png": "[encoded data removed]",
      "text/plain": [
       "<Figure size 432x288 with 1 Axes>"
      ]
     },
     "metadata": {
      "needs_background": "light"
     },
     "output_type": "display_data"
    }
   ],
   "source": [
    "pipe_best = gscv.best_estimator_ \n",
    "\n",
    "W_l1 = pipe_best.named_steps[\"featsel\"].estimator_.coef_\n",
    "\n",
    "support = pipe_best.named_steps[\"featsel\"].get_support()\n",
    "\n",
    "plt.stem(W_l1[0,:])\n",
    "plt.title('feature selection')\n",
    "plt.xlabel('coefficient index')\n",
    "\n",
    "print(W_l1[0,:])"
   ]
  },
  {
   "cell_type": "markdown",
   "metadata": {},
   "source": [
    "Feature selection:L1 regularization tuned with GridSearchCV and the one-standard-error rule"
   ]
  },
  {
   "cell_type": "code",
   "execution_count": 36,
   "metadata": {
    "id": "IYePzBmJ3skg"
   },
   "outputs": [],
   "source": [
    "lasso = LogisticRegression(penalty='l1', solver='liblinear', warm_start=True, multi_class='ovr')\n",
    "\n",
    "npen = 20\n",
    "C_lasso = np.logspace(-0.5,1.5,npen)\n",
    "\n",
    "parameters = {'C':C_lasso}\n",
    "clf = GridSearchCV(lasso, parameters, cv=kf, scoring='accuracy')\n",
    "clf.fit(Xtr_standardized,ytr_standardized);"
   ]
  },
  {
   "cell_type": "code",
   "execution_count": 37,
   "metadata": {
    "colab": {
     "base_uri": "https://localhost:8080/",
     "height": 286
    },
    "id": "jxadTX8S4NT2",
    "outputId": "55b88c7c-2735-41f9-d0cf-b231a7706a2e"
   },
   "outputs": [
    {
     "name": "stdout",
     "output_type": "stream",
     "text": [
      "[ 0.01269457  0.04388146  1.12838664  0.36272912  0.02316954 -0.06138127\n",
      " -0.07923075 -1.20055472]\n"
     ]
    },
    {
     "data": {
      "image/png": "[encoded data removed]",
      "text/plain": [
       "<Figure size 432x288 with 1 Axes>"
      ]
     },
     "metadata": {
      "needs_background": "light"
     },
     "output_type": "display_data"
    }
   ],
   "source": [
    "err_mean = 1-clf.cv_results_['mean_test_score'] \n",
    "err_se = clf.cv_results_['std_test_score']/np.sqrt(nfold-1)\n",
    "imin = np.argmin(err_mean)\n",
    "C_min = C_lasso[imin]\n",
    "\n",
    "xmin, xmax, ymin, ymax = plt.axis()\n",
    "\n",
    "err_tgt = err_mean[imin] + err_se[imin]\n",
    "iose = np.where(err_mean < err_tgt)[0][0]\n",
    "C_ose = C_lasso[iose]\n",
    "\n",
    "lasso = LogisticRegression(C=C_ose,penalty='l1',solver='liblinear',multi_class='ovr')\n",
    "lasso.fit(Xtr_standardized,ytr_standardized)\n",
    "\n",
    "W_ose = lasso.coef_\n",
    "\n",
    "\n",
    "plt.stem(W_ose[0,:])\n",
    "plt.title('feature selection')\n",
    "plt.xlabel('coefficient index')\n",
    "print(W_ose[0,:])"
   ]
  },
  {
   "cell_type": "markdown",
   "metadata": {
    "id": "uWG3egF5EA4O"
   },
   "source": [
    "With selected features, use SVM with RBF kernel using StandardScaler."
   ]
  },
  {
   "cell_type": "code",
   "execution_count": 38,
   "metadata": {
    "id": "sUkDxW8P5Lkh"
   },
   "outputs": [],
   "source": [
    "scaler = preprocessing.StandardScaler().fit(Xtr)\n",
    "\n",
    "# standardize the training data\n",
    "Xtr_standardized = scaler.transform(Xtr)[:, [2,3,5,6,7]] # revise this line as needed\n",
    "Xts_standardized = scaler.transform(Xts)[:, [2,3,5,6,7]] # revise this line as needed\n",
    "ytr_standardized = ytr # revise this line as needed\n",
    "\n",
    "# save the standardized training data\n",
    "Xtr_savepath = 'Xtr_sklearn_featsel.csv'\n",
    "Xts_savepath = 'Xts_sklearn_featsel.csv'\n",
    "ytr_savepath = 'ytr_sklearn_featsel.csv'\n",
    "\n",
    "np.savetxt(Xtr_savepath, Xtr_standardized, delimiter=\",\")\n",
    "np.savetxt(Xts_savepath, Xts_standardized, delimiter=\",\")\n",
    "np.savetxt(ytr_savepath, ytr_standardized, delimiter=\",\")"
   ]
  },
  {
   "cell_type": "code",
   "execution_count": 39,
   "metadata": {
    "id": "cxUFp0f56JmY"
   },
   "outputs": [],
   "source": [
    "X_train, X_val, y_train, y_val = train_test_split(Xtr_standardized, ytr_standardized, test_size=0.2, shuffle=True, random_state=42)"
   ]
  },
  {
   "cell_type": "markdown",
   "metadata": {
    "id": "v-P-XnGsEOj8"
   },
   "source": [
    "Tune the parameter C."
   ]
  },
  {
   "cell_type": "code",
   "execution_count": 40,
   "metadata": {
    "colab": {
     "base_uri": "https://localhost:8080/"
    },
    "id": "vRoMFR9S5T-C",
    "outputId": "ca407fe2-bf30-4594-8ad4-bd4b2e047fee"
   },
   "outputs": [
    {
     "name": "stdout",
     "output_type": "stream",
     "text": [
      "val auc:  0.8433917705262796 0.001\n",
      "val auc:  0.8621102032373171 0.01\n",
      "val auc:  0.8886385771663996 0.1\n",
      "val auc:  0.9006007481339747 1\n",
      "val auc:  0.9096281308717313 10\n",
      "val auc:  0.9091885590663841 20\n",
      "val auc:  0.9070693489165849 50\n",
      "val auc:  0.9067956939201186 100\n"
     ]
    }
   ],
   "source": [
    "C_list = [1e-3, 0.01, 0.1, 1, 10, 20, 50, 100]\n",
    "for C in C_list:\n",
    "    SVM = svm.SVC(kernel='rbf', C=C)\n",
    "    SVM.fit(X_train, y_train)\n",
    "\n",
    "    auc = roc_auc_score(y_val,SVM.decision_function(X_val))\n",
    "    print('val auc: ',auc, C)"
   ]
  },
  {
   "cell_type": "code",
   "execution_count": 41,
   "metadata": {
    "colab": {
     "base_uri": "https://localhost:8080/"
    },
    "id": "S2-3VKbI7A_v",
    "outputId": "9d9fc1c3-65fc-48dc-8138-df58287e242c",
    "scrolled": true
   },
   "outputs": [
    {
     "name": "stdout",
     "output_type": "stream",
     "text": [
      "val auc:  0.9076328196376549 5\n",
      "val auc:  0.9097046249849168 7\n",
      "val auc:  0.9096184344348486 9\n",
      "val auc:  0.9097283273861853 11\n",
      "val auc:  0.9097929702987362 13\n",
      "val auc:  0.9094579045353469 15\n"
     ]
    }
   ],
   "source": [
    "C_list = [5,7,9,11,13,15]\n",
    "for C in C_list:\n",
    "    SVM = svm.SVC(kernel='rbf', C=C)\n",
    "    SVM.fit(X_train, y_train)\n",
    "\n",
    "    auc = roc_auc_score(y_val,SVM.decision_function(X_val))\n",
    "    print('val auc: ',auc, C)"
   ]
  },
  {
   "cell_type": "markdown",
   "metadata": {
    "id": "LMP8KsiwE2to"
   },
   "source": [
    "Get the model 'svm3', and the performance is much better."
   ]
  },
  {
   "cell_type": "code",
   "execution_count": 42,
   "metadata": {
    "colab": {
     "base_uri": "https://localhost:8080/"
    },
    "id": "62eK7QuR7VLi",
    "outputId": "9027b965-17b5-435c-e3d0-25a9ce86c194"
   },
   "outputs": [
    {
     "data": {
      "text/plain": [
       "SVC(C=13)"
      ]
     },
     "execution_count": 42,
     "metadata": {},
     "output_type": "execute_result"
    }
   ],
   "source": [
    "SVM = svm.SVC(kernel='rbf', C=13)\n",
    "SVM.fit(Xtr_standardized, ytr_standardized)"
   ]
  },
  {
   "cell_type": "code",
   "execution_count": 43,
   "metadata": {
    "id": "e2uzbXaY5OXP"
   },
   "outputs": [],
   "source": [
    "yts_hat_savepath = 'svm3.csv'"
   ]
  },
  {
   "cell_type": "code",
   "execution_count": 44,
   "metadata": {
    "id": "w5Wi77oO7cIM"
   },
   "outputs": [],
   "source": [
    "model_savepath = 'SVM3.bz2'\n",
    "with bz2.BZ2File(model_savepath, 'w') as f:\n",
    "    pickle.dump(SVM,f)"
   ]
  },
  {
   "cell_type": "code",
   "execution_count": 45,
   "metadata": {
    "colab": {
     "base_uri": "https://localhost:8080/"
    },
    "id": "_hqgTxQD7f4y",
    "outputId": "f28d1711-9eaa-4209-80df-01a5410f5bf8"
   },
   "outputs": [
    {
     "name": "stdout",
     "output_type": "stream",
     "text": [
      "training auc =  0.9191631715510442\n",
      "test label confidences saved in svm3.csv\n"
     ]
    }
   ],
   "source": [
    "!python {\"validation.py \" + model_savepath + \" --Xts_path \" + Xts_savepath + \" --Xtr_path \" + Xtr_savepath + \" --yts_hat_path \" + yts_hat_savepath } "
   ]
  },
  {
   "cell_type": "markdown",
   "metadata": {
    "id": "69onlUVOE9wM"
   },
   "source": [
    "Try tuning gamma."
   ]
  },
  {
   "cell_type": "code",
   "execution_count": 46,
   "metadata": {
    "colab": {
     "base_uri": "https://localhost:8080/"
    },
    "id": "6eZJmggX8RYy",
    "outputId": "ec3020a4-d0c7-47d1-c9f1-1dd0ab3422de"
   },
   "outputs": [
    {
     "name": "stdout",
     "output_type": "stream",
     "text": [
      "val auc:  0.8844249366499457 10 0.01\n",
      "val auc:  0.8988553894950958 10 0.04\n",
      "val auc:  0.9063895209529228 10 0.1\n",
      "val auc:  0.909673380910517 10 0.2\n",
      "val auc:  0.9053466152970988 10 0.4\n",
      "val auc:  0.9025206426367414 10 0.6\n",
      "val auc:  0.9009293496061093 10 0.8\n",
      "val auc:  0.891616460671252 10 1.6\n",
      "val auc:  0.8865333729809863 10 3.2\n",
      "val auc:  0.8774230318387891 10 6.4\n",
      "val auc:  0.8559895968006068 10 12.8\n",
      "val auc:  0.886332979952078 15 0.01\n",
      "val auc:  0.9011372843081484 15 0.04\n",
      "val auc:  0.9082997190188068 15 0.1\n",
      "val auc:  0.9095764165416904 15 0.2\n",
      "val auc:  0.9037100722276808 15 0.4\n",
      "val auc:  0.9026273034424506 15 0.6\n",
      "val auc:  0.9004219027425833 15 0.8\n",
      "val auc:  0.8911025495164708 15 1.6\n",
      "val auc:  0.8845833117856958 15 3.2\n",
      "val auc:  0.8757002982193032 15 6.4\n",
      "val auc:  0.8509970091879127 15 12.8\n",
      "val auc:  0.8878111478857457 20 0.01\n",
      "val auc:  0.9015456120390961 20 0.04\n",
      "val auc:  0.9094535950078434 20 0.1\n",
      "val auc:  0.9092736722345762 20 0.2\n",
      "val auc:  0.9035161434900278 20 0.4\n",
      "val auc:  0.901560695385358 20 0.6\n",
      "val auc:  0.8995836996431712 20 0.8\n",
      "val auc:  0.8905207633035114 20 1.6\n",
      "val auc:  0.8828153281274241 20 3.2\n",
      "val auc:  0.8738741359397357 20 6.4\n",
      "val auc:  0.8479868042267845 20 12.8\n",
      "val auc:  0.8888712916515833 25 0.01\n",
      "val auc:  0.9022178983296272 25 0.04\n",
      "val auc:  0.9099168692144594 25 0.1\n",
      "val auc:  0.908196290358725 25 0.2\n",
      "val auc:  0.9033868576649255 25 0.4\n",
      "val auc:  0.9013172070814155 25 0.6\n",
      "val auc:  0.8999877178466154 25 0.8\n",
      "val auc:  0.889662089948458 25 1.6\n",
      "val auc:  0.8814890710382515 25 3.2\n",
      "val auc:  0.8705902759821414 25 6.4\n",
      "val auc:  0.8447654324179896 25 12.8\n",
      "val auc:  0.8899853045112134 30 0.01\n",
      "val auc:  0.9030485597559083 30 0.04\n",
      "val auc:  0.9100914050783473 30 0.1\n",
      "val auc:  0.9072234145248316 30 0.2\n",
      "val auc:  0.9035430780369241 30 0.4\n",
      "val auc:  0.9011685283825481 30 0.6\n",
      "val auc:  0.8997151402320249 30 0.8\n",
      "val auc:  0.8892979348744203 30 1.6\n",
      "val auc:  0.8811389219285998 30 3.2\n",
      "val auc:  0.8674324697040215 30 6.4\n",
      "val auc:  0.8423380910516971 30 12.8\n"
     ]
    }
   ],
   "source": [
    "C_list2 = [i for i in range(10,31,5)]\n",
    "g_list = [0.01,0.04,0.1,0.2,0.4,0.6,0.8,1.6,3.2,6.4,12.8]\n",
    "for C in C_list2:\n",
    "    for g in g_list:\n",
    "        SVM = svm.SVC(kernel='rbf', C=C, gamma=g)\n",
    "        SVM.fit(X_train, y_train)\n",
    "\n",
    "        auc = roc_auc_score(y_val,SVM.decision_function(X_val))\n",
    "        print('val auc: ',auc, C, g)"
   ]
  },
  {
   "cell_type": "code",
   "execution_count": 47,
   "metadata": {
    "colab": {
     "base_uri": "https://localhost:8080/"
    },
    "id": "ci994ECl9MIO",
    "outputId": "c187fdb4-b7cd-4df1-ea36-f577166c6c3a"
   },
   "outputs": [
    {
     "name": "stdout",
     "output_type": "stream",
     "text": [
      "val auc:  0.9036034114219716 35 0.04\n",
      "val auc:  0.9098199048456328 35 0.1\n",
      "val auc:  0.9071393787385151 35 0.2\n",
      "val auc:  0.9034665839237386 35 0.4\n",
      "val auc:  0.9009422781886193 35 0.6\n",
      "val auc:  0.8989448121907914 35 0.8\n",
      "val auc:  0.8892085121787248 35 1.6\n",
      "val auc:  0.9042994001137715 40 0.04\n",
      "val auc:  0.9097197083311784 40 0.1\n",
      "val auc:  0.9071102894278672 40 0.2\n",
      "val auc:  0.9037671734671011 40 0.4\n",
      "val auc:  0.9008097602178897 40 0.6\n",
      "val auc:  0.8978092516936442 40 0.8\n",
      "val auc:  0.8888411249590595 40 1.6\n",
      "val auc:  0.9043791263725844 45 0.04\n",
      "val auc:  0.9100084466739067 45 0.1\n",
      "val auc:  0.9070348726965576 45 0.2\n",
      "val auc:  0.9036529709882608 45 0.4\n",
      "val auc:  0.900365878885039 45 0.6\n",
      "val auc:  0.8962578217924186 45 0.8\n",
      "val auc:  0.8884575770112565 45 1.6\n",
      "val auc:  0.9045407336539621 50 0.04\n",
      "val auc:  0.9102767147609936 50 0.1\n",
      "val auc:  0.9070467238971919 50 0.2\n",
      "val auc:  0.9031250538690938 50 0.4\n",
      "val auc:  0.8997108307045216 50 0.6\n",
      "val auc:  0.8949455706676321 50 0.8\n",
      "val auc:  0.8887387736808537 50 1.6\n"
     ]
    }
   ],
   "source": [
    "C_list2 = [i for i in range(35,51,5)]\n",
    "g_list = [0.04,0.1,0.2,0.4,0.6,0.8,1.6]\n",
    "for C in C_list2:\n",
    "    for g in g_list:\n",
    "        SVM = svm.SVC(kernel='rbf', C=C, gamma=g)\n",
    "        SVM.fit(X_train, y_train)\n",
    "\n",
    "        auc = roc_auc_score(y_val,SVM.decision_function(X_val))\n",
    "        print('val auc: ',auc, C, g)"
   ]
  },
  {
   "cell_type": "code",
   "execution_count": 48,
   "metadata": {
    "colab": {
     "base_uri": "https://localhost:8080/"
    },
    "id": "8pVaC6zG9m9S",
    "outputId": "bb20d401-8976-4263-aa16-754a26ea9277"
   },
   "outputs": [
    {
     "name": "stdout",
     "output_type": "stream",
     "text": [
      "val auc:  0.9101668218096569 45 0.08\n",
      "val auc:  0.9100084466739067 45 0.1\n",
      "val auc:  0.9097692678974677 45 0.15\n",
      "val auc:  0.9100795538777128 47 0.08\n",
      "val auc:  0.9100623157676991 47 0.1\n",
      "val auc:  0.9097358690593162 47 0.15\n",
      "val auc:  0.9100763217320853 49 0.08\n",
      "val auc:  0.9102422385409665 49 0.1\n",
      "val auc:  0.9097584940787091 49 0.15\n",
      "val auc:  0.910144196790264 51 0.08\n",
      "val auc:  0.9103004171622625 51 0.1\n",
      "val auc:  0.9095958094154556 51 0.15\n",
      "val auc:  0.9102443933047181 53 0.08\n",
      "val auc:  0.9103650600748133 53 0.1\n",
      "val auc:  0.9095548689041731 53 0.15\n",
      "val auc:  0.9101819051559187 55 0.08\n",
      "val auc:  0.9104426315698748 55 0.1\n",
      "val auc:  0.9093566306390167 55 0.15\n"
     ]
    }
   ],
   "source": [
    "C_list2 = [i for i in range(45,56,2)]\n",
    "g_list = [0.08,0.1,0.15]\n",
    "for C in C_list2:\n",
    "    for g in g_list:\n",
    "        SVM = svm.SVC(kernel='rbf', C=C, gamma=g)\n",
    "        SVM.fit(X_train, y_train)\n",
    "\n",
    "        auc = roc_auc_score(y_val,SVM.decision_function(X_val))\n",
    "        print('val auc: ',auc, C, g)"
   ]
  },
  {
   "cell_type": "code",
   "execution_count": 49,
   "metadata": {
    "colab": {
     "base_uri": "https://localhost:8080/"
    },
    "id": "KS8vnKMy9-pv",
    "outputId": "deaf8f9e-7454-403d-c3f4-a6b7595f5e6f"
   },
   "outputs": [
    {
     "name": "stdout",
     "output_type": "stream",
     "text": [
      "val auc:  0.9104781851717778 60 0.1\n",
      "val auc:  0.9106656496181759 70 0.1\n",
      "val auc:  0.9107464532588647 80 0.1\n",
      "val auc:  0.9107690782782576 90 0.1\n",
      "val auc:  0.9105870007412387 100 0.1\n"
     ]
    }
   ],
   "source": [
    "C_list2 = [i for i in range(60, 101, 10)]\n",
    "g_list = [0.1]\n",
    "for C in C_list2:\n",
    "    for g in g_list:\n",
    "        SVM = svm.SVC(kernel='rbf', C=C, gamma=g)\n",
    "        SVM.fit(X_train, y_train)\n",
    "\n",
    "        auc = roc_auc_score(y_val,SVM.decision_function(X_val))\n",
    "        print('val auc: ',auc, C, g)"
   ]
  },
  {
   "cell_type": "code",
   "execution_count": 50,
   "metadata": {
    "colab": {
     "base_uri": "https://localhost:8080/"
    },
    "id": "Ci8uphX4-I38",
    "outputId": "0a3950d8-e2c0-414c-f635-c7de2e056630",
    "scrolled": true
   },
   "outputs": [
    {
     "name": "stdout",
     "output_type": "stream",
     "text": [
      "val auc:  0.9107744651876368 85 0.1\n",
      "val auc:  0.9107938580614022 87 0.1\n",
      "val auc:  0.9107636913688784 89 0.1\n",
      "val auc:  0.9107539949319957 91 0.1\n",
      "val auc:  0.9106958163106997 93 0.1\n",
      "val auc:  0.9106473341262864 95 0.1\n",
      "val auc:  0.9103478219647999 110 0.1\n",
      "val auc:  0.9103251969454069 120 0.1\n"
     ]
    }
   ],
   "source": [
    "C_list2 = [i for i in range(85, 96, 2)] + [110, 120]\n",
    "g_list = [0.1]\n",
    "for C in C_list2:\n",
    "    for g in g_list:\n",
    "        SVM = svm.SVC(kernel='rbf', C=C, gamma=g)\n",
    "        SVM.fit(X_train, y_train)\n",
    "\n",
    "        auc = roc_auc_score(y_val,SVM.decision_function(X_val))\n",
    "        print('val auc: ',auc, C, g)"
   ]
  },
  {
   "cell_type": "markdown",
   "metadata": {
    "id": "AOCGsY-NFFHn"
   },
   "source": [
    "# Finally, we get the best model 'SVM4'. The validation AUC is 0.9108."
   ]
  },
  {
   "cell_type": "code",
   "execution_count": 51,
   "metadata": {
    "colab": {
     "base_uri": "https://localhost:8080/"
    },
    "id": "oPkpQJua-mA7",
    "outputId": "fda9637f-017d-46dd-f6c9-940e699e1c72"
   },
   "outputs": [
    {
     "data": {
      "text/plain": [
       "SVC(C=87, gamma=0.1)"
      ]
     },
     "execution_count": 51,
     "metadata": {},
     "output_type": "execute_result"
    }
   ],
   "source": [
    "SVM = svm.SVC(kernel='rbf', C=87, gamma=0.1)\n",
    "SVM.fit(Xtr_standardized, ytr_standardized)"
   ]
  },
  {
   "cell_type": "code",
   "execution_count": 52,
   "metadata": {
    "id": "ywRE8MgD-mA7"
   },
   "outputs": [],
   "source": [
    "yts_hat_savepath = 'svm4.csv'"
   ]
  },
  {
   "cell_type": "code",
   "execution_count": 53,
   "metadata": {
    "id": "NrlQ0aQF-mA7"
   },
   "outputs": [],
   "source": [
    "model_savepath = 'SVM4.bz2'\n",
    "with bz2.BZ2File(model_savepath, 'w') as f:\n",
    "    pickle.dump(SVM,f)"
   ]
  },
  {
   "cell_type": "code",
   "execution_count": 54,
   "metadata": {
    "colab": {
     "base_uri": "https://localhost:8080/"
    },
    "id": "48lpyFpw-mA7",
    "outputId": "06247d5e-2475-4d80-a3ba-79c946a4b31e"
   },
   "outputs": [
    {
     "name": "stdout",
     "output_type": "stream",
     "text": [
      "training auc =  0.9184651732583554\r\n",
      "test label confidences saved in svm4.csv\r\n"
     ]
    }
   ],
   "source": [
    "!python {\"validation.py \" + model_savepath + \" --Xts_path \" + Xts_savepath + \" --Xtr_path \" + Xtr_savepath + \" --yts_hat_path \" + yts_hat_savepath } "
   ]
  },
  {
   "cell_type": "code",
   "execution_count": null,
   "metadata": {},
   "outputs": [],
   "source": []
  }
 ],
 "metadata": {
  "colab": {
   "provenance": [],
   "toc_visible": true
  },
  "kernelspec": {
   "display_name": "Python 3 (ipykernel)",
   "language": "python",
   "name": "python3"
  },
  "language_info": {
   "codemirror_mode": {
    "name": "ipython",
    "version": 3
   },
   "file_extension": ".py",
   "mimetype": "text/x-python",
   "name": "python",
   "nbconvert_exporter": "python",
   "pygments_lexer": "ipython3",
   "version": "3.9.12"
  },
  "varInspector": {
   "cols": {
    "lenName": 16,
    "lenType": 16,
    "lenVar": 40
   },
   "kernels_config": {
    "python": {
     "delete_cmd_postfix": "",
     "delete_cmd_prefix": "del ",
     "library": "var_list.py",
     "varRefreshCmd": "print(var_dic_list())"
    },
    "r": {
     "delete_cmd_postfix": ") ",
     "delete_cmd_prefix": "rm(",
     "library": "var_list.r",
     "varRefreshCmd": "cat(var_dic_list()) "
    }
   },
   "types_to_exclude": [
    "module",
    "function",
    "builtin_function_or_method",
    "instance",
    "_Feature"
   ],
   "window_display": false
  }
 },
 "nbformat": 4,
 "nbformat_minor": 1
}
