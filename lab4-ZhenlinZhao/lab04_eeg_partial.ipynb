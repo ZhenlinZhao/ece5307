{
 "cells": [
  {
   "cell_type": "markdown",
   "metadata": {},
   "source": [
    "# Lab:  Source Localization for EEG\n",
    "\n",
    "EEG or [Electroencephalography](https://en.wikipedia.org/wiki/Electroencephalography) is a powerful tool for neuroscientists in understanding brain activity.  In EEG, a patient wears a headset with electrodes that measures voltages at a number of points on the scalp.  These voltages arise from ionic currents within the brain.  A common *inverse problem* is to estimate the which parts of the brain caused the measured response.  Source localization is useful in understanding which parts of the brain are involved in certain tasks.  A key challenge in this inverse problem is that the number of unknowns (possible locations in the brain) is much larger than the number of measurements.  In this lab, we will use LASSO regression on a real EEG dataset to overcome this problem and determine the brain region that is active under an auditory stimulus.\n",
    "\n",
    "In addition to learning the concepts in the demo for this unit, you will learn to:\n",
    "* Represent responses of multi-channel time-series data, such as EEG, using linear models\n",
    "* Perform LASSO and Ridge regression\n",
    "* Select the regularization level via cross-validation\n",
    "* Visually compare the sparsity between the solutions\n",
    "\n",
    "We first download some standard packages."
   ]
  },
  {
   "cell_type": "code",
   "execution_count": 1,
   "metadata": {},
   "outputs": [],
   "source": [
    "import numpy as np\n",
    "import matplotlib.pyplot as plt\n",
    "\n",
    "from sklearn.linear_model import Lasso, Ridge, LinearRegression\n",
    "from sklearn.metrics import r2_score\n",
    "\n",
    "from sklearn.preprocessing import StandardScaler\n",
    "\n",
    "from sklearn.model_selection import cross_val_score, GridSearchCV, KFold"
   ]
  },
  {
   "cell_type": "markdown",
   "metadata": {},
   "source": [
    "## Load the Data\n",
    "\n",
    "The data in this lab is taken from one of the sample datasets in the [MNE website](https://martinos.org/mne/stable/index.html). The sample data is a recording from one subject who experienced some auditory stimulus on the left ear.    \n",
    "\n",
    "The raw data is very large (`1.5G`) and also requires that you install the `mne` python package. To make this lab easier, I have extracted and processed a small section of the data.  The following commands will get the data from a `pickle` file `eeg_dat.p` stored remotely."
   ]
  },
  {
   "cell_type": "code",
   "execution_count": 2,
   "metadata": {},
   "outputs": [],
   "source": [
    "import cloudpickle\n",
    "from urllib.request import urlopen\n",
    "with urlopen(\"http://www.ece.ohio-state.edu/~schniter/nonpublic/eeg_dat.p\") as fp:\n",
    "    [Xtr,Ytr] = cloudpickle.load(fp)"
   ]
  },
  {
   "cell_type": "markdown",
   "metadata": {},
   "source": [
    "To understand the data, there are three key variables:\n",
    "* `nt`    = number of time steps that we measure data\n",
    "* `nchan` = number of channels (i.e. electrodes) measured in each time step\n",
    "* `ncur`  = number of currents in the brain that we want to estimate.  \n",
    "\n",
    "Current is measured at each brain region (called a *voxel*) in three separate directions: `x`, `y`, and `z`.  So,\n",
    "\n",
    "    nvoxels = ncur / 3\n",
    "    \n",
    "The components of the `X` and `Y` matrices are:\n",
    "*  `Y[i,k]` = electric field measurement on channel `i` at time `k`\n",
    "*  `X[i,j]` = sensitivity of channel `i` to current `j`.\n",
    "\n",
    "Using `X.shape` and `Y.shape` compute and print `nt`, `nchan`, `ncur` and `nvoxels`."
   ]
  },
  {
   "cell_type": "code",
   "execution_count": 3,
   "metadata": {},
   "outputs": [
    {
     "name": "stdout",
     "output_type": "stream",
     "text": [
      "85 22494 305 7498.0\n"
     ]
    }
   ],
   "source": [
    "# TODO\n",
    "nt = Ytr.shape[1]\n",
    "ncur = Xtr.shape[1]\n",
    "nchan = Ytr.shape[0]\n",
    "nvoxels = ncur/3\n",
    "print(nt,ncur,nchan,nvoxels)\n"
   ]
  },
  {
   "cell_type": "markdown",
   "metadata": {},
   "source": [
    "## The need for Regularization\n",
    "\n",
    "Our goal is to estimate the currents `W` in the brain from the measurements `Y`.  We will use the linear model\n",
    "\n",
    "    Y[i,k]  = \\sum_j X[i,j]*W[j,k]+ b[k]\n",
    "\n",
    "where `W[j,k]` is the value of current `j` at time `k` and where `b[k]` is a bias.  We can solve for the current matrix `W` via linear regression.  \n",
    "\n",
    "Note that this model differs slightly from the linear regression model that we considered in most of the lectures, in the following sense. At sample index `i`, the target is a *vector* `Y[i,:]` (not a scalar `y[i]`). Thus, the regresson coefficients `W[j,:]` must also be *vectors* (rather than a scalars `w[j]`) and the bias `b[:]` must also be a *vector* (rather than a scalar `b`).  In other words, if we considered only a *single* value of `k` in the above model, then we would get a scalar-target model that takes the form `y[i] = \\sum_j X[i,j]*w[j] + b`.  But in this lab, we have several values of `k`.\n",
    "\n",
    "However, there is a major problem:\n",
    "*  There are `nt` times `ncur` unknowns in `W`\n",
    "*  There are `nt` time `nchan` measurements in `Y`\n",
    "*  `ncur` is much larger than `nchan`\n",
    "\n",
    "In other words, we have\n",
    "\n",
    "    number of unknowns >> number of measurements\n",
    "    \n",
    "In this case, the least-squares solution is not unique (and the matrix we'd like to invert when computing the least-squares solution is not invertible).  We can remedy this problem using regularization.  We first try Ridge regression, and later LASSO."
   ]
  },
  {
   "cell_type": "markdown",
   "metadata": {},
   "source": [
    "## Ridge Regression\n",
    "\n",
    "First, standardize the features using the `StandardScaler` object from `sklearn`."
   ]
  },
  {
   "cell_type": "code",
   "execution_count": 4,
   "metadata": {},
   "outputs": [],
   "source": [
    "#TODO\n",
    "from sklearn.preprocessing import StandardScaler\n",
    "scaler = StandardScaler()\n",
    "Xtr_std = scaler.fit_transform(Xtr)\n"
   ]
  },
  {
   "cell_type": "markdown",
   "metadata": {},
   "source": [
    "Next, train a Ridge regression model using a regularization weight of `alpha=1` using the `Ridge` object from `sklearn`.\n",
    "Then compute the `R^2` value on the training data using the `r2_score` function and print it out.\n",
    "It should be relatively large."
   ]
  },
  {
   "cell_type": "code",
   "execution_count": 5,
   "metadata": {},
   "outputs": [
    {
     "name": "stdout",
     "output_type": "stream",
     "text": [
      "0.9366168041604035\n"
     ]
    }
   ],
   "source": [
    "# TODO\n",
    "regr=Ridge(alpha=1)\n",
    "regr.fit(Xtr_std,Ytr)\n",
    "Ytr_predict=regr.predict(Xtr_std)\n",
    "rsq_tr = r2_score(Ytr,Ytr_predict)\n",
    "print(rsq_tr)\n"
   ]
  },
  {
   "cell_type": "markdown",
   "metadata": {},
   "source": [
    "Now use `cross_val_score` to compute the `R^2` value using shuffled 5-fold cross-validation.  Use a fixed random seed for consistency across experiments.\n",
    "You should see that the cross-validated `R^2` value is very low.\n",
    "Remember that cross-validation aims to estimate the performance of a model on unseen test data.\n",
    "The fact that the training `R^2` is high and the test `R^2` is low means that this model is over-fitting."
   ]
  },
  {
   "cell_type": "code",
   "execution_count": 6,
   "metadata": {},
   "outputs": [
    {
     "name": "stdout",
     "output_type": "stream",
     "text": [
      "R^2 [-1.60255499 -1.89781811 -1.76942577 -1.77967095 -2.53895089]\n"
     ]
    }
   ],
   "source": [
    "#TODO \n",
    "kf = KFold(n_splits=5,shuffle=True,random_state=0)\n",
    "\n",
    "rsq_cv = cross_val_score(regr,Xtr_std,Ytr,cv=kf,scoring='r2')\n",
    "print('R^2',rsq_cv)"
   ]
  },
  {
   "cell_type": "markdown",
   "metadata": {},
   "source": [
    "Next, try to see if you can get a better `R^2` score using a different value of `alpha`.  \n",
    "In particular, use 2-fold cross-validation to find the largest `R^2` for 20 `alpha` values logarithmically spaced from `10^3` to `10^6` (use `np.logspace()`), as well as the maximizing value of `alpha`. \n",
    "Use `GridSearchCV` for this task with the appropriate scoring choice."
   ]
  },
  {
   "cell_type": "code",
   "execution_count": 8,
   "metadata": {},
   "outputs": [
    {
     "name": "stdout",
     "output_type": "stream",
     "text": [
      "R^2 [0.1283454  0.16686292 0.19969798 0.2262361  0.24583197 0.25796068\n",
      " 0.26235098 0.25906098 0.24850316 0.23145578 0.20907263 0.18285633\n",
      " 0.15455141 0.12595113 0.09866358 0.07390865 0.05240891 0.0344032\n",
      " 0.01976133 0.00813745]\n"
     ]
    }
   ],
   "source": [
    "# TODO\n",
    "\n",
    "nalpha = 20\n",
    "alphas = np.logspace(3,6,nalpha)\n",
    "param_grid = {'alpha': alphas}\n",
    "gscv = GridSearchCV(regr, param_grid, cv=kf, scoring='r2')\n",
    "gscv.fit(Xtr_std,Ytr)\n",
    "rsq_cv = gscv.cv_results_['mean_test_score']\n",
    "print('R^2',rsq_cv)"
   ]
  },
  {
   "cell_type": "markdown",
   "metadata": {},
   "source": [
    "Plot the cross-validation `R^2` vs. `alpha` and mark the maximum `R^2` and maximizing `alpha`.  You should see that the maximum `R^2` is much better than with `alpha=1`."
   ]
  },
  {
   "cell_type": "code",
   "execution_count": 10,
   "metadata": {},
   "outputs": [
    {
     "data": {
      "image/png": "[encoded data removed]",
      "text/plain": [
       "<Figure size 432x288 with 1 Axes>"
      ]
     },
     "metadata": {
      "needs_background": "light"
     },
     "output_type": "display_data"
    }
   ],
   "source": [
    "plt.semilogx(alphas,rsq_cv)\n",
    "imax=np.argmax(rsq_cv)\n",
    "plt.semilogx(alphas[imax],rsq_cv[imax],'o',label='max R^2')\n",
    "plt.xlabel('alpha')\n",
    "plt.ylabel('R^2')\n",
    "plt.legend(['R^2'],loc='upper left')\n",
    "plt.grid()"
   ]
  },
  {
   "cell_type": "markdown",
   "metadata": {},
   "source": [
    "Now, let's take a closer look at the solution. \n",
    "* Extract the matrix `W` of optimally tuned ridge coefficients from the output of GridSearchCV.  These are stored in `best_estimator_.coef_` in transposed form, so apply a transpose to get `W` as we defined it above.\n",
    "* For each current `j` compute `Wrms[j] =  sqrt( sum_k W[j,k]**2 )`, which is the root-mean-squared value across time.\n",
    "* Finally, plot the `Wrms` vector.\n",
    "\n",
    "You will see that the RMS current vector `Wrms` is not sparse.  This means that the solution found by Ridge regression allows non-zero currents in all locations."
   ]
  },
  {
   "cell_type": "code",
   "execution_count": 11,
   "metadata": {},
   "outputs": [
    {
     "data": {
      "image/png": "[encoded data removed]",
      "text/plain": [
       "<Figure size 432x288 with 1 Axes>"
      ]
     },
     "metadata": {
      "needs_background": "light"
     },
     "output_type": "display_data"
    }
   ],
   "source": [
    "# TODO\n",
    "#\n",
    "W_ridge=gscv.best_estimator_.coef_.transpose()\n",
    "W_ridge_rms = np.sqrt(np.sum(W_ridge**2,1) )\n",
    "plt.plot(W_ridge_rms)\n",
    "plt.ylabel('W_ridge_rms')\n",
    "plt.grid()"
   ]
  },
  {
   "cell_type": "markdown",
   "metadata": {},
   "source": [
    "## LASSO Regression\n",
    "\n",
    "We can improve the estimate by setting a large fraction of the coefficients to zero.  Biologically, we expect that only a limited number of brain regions should be involved in the response to a particular stimuli.  As a result, we expect that the current matrix `W[j,k]` should be zero-valued for most locations `j` at each time `k`.  We can find such a solution using LASSO with an appropriate regularization strength `alpha`.\n",
    "\n",
    "First, fit a LASSO model to the training data with `alpha=1e-2`.  In sklearn's `Lasso`, set `max_iter=100`, `tol=0.01`, and `warm_start=True` to speed things up.  The LASSO solver is much slower than the Ridge solver, so this may take a minute."
   ]
  },
  {
   "cell_type": "code",
   "execution_count": 12,
   "metadata": {},
   "outputs": [
    {
     "data": {
      "text/plain": [
       "Lasso(alpha=0.01, max_iter=100, tol=0.01, warm_start=True)"
      ]
     },
     "execution_count": 12,
     "metadata": {},
     "output_type": "execute_result"
    }
   ],
   "source": [
    "regr=Lasso(alpha=1e-2,max_iter=100,tol=0.01,warm_start=True)\n",
    "regr.fit(Xtr,Ytr)\n"
   ]
  },
  {
   "cell_type": "markdown",
   "metadata": {},
   "source": [
    "Next, estimate the `R^2` value using the same 5-fold cross-validation object you created earlier using `cross_val_score`.  Be patient as this may take a few minutes.  You should get a better `R^2` than you did with Ridge regression.  "
   ]
  },
  {
   "cell_type": "code",
   "execution_count": 15,
   "metadata": {},
   "outputs": [
    {
     "name": "stdout",
     "output_type": "stream",
     "text": [
      "R^2 [0.24606967 0.43590823 0.38021013 0.41329823 0.35038139]\n"
     ]
    }
   ],
   "source": [
    "# TODO\n",
    "rsq_cv = cross_val_score(regr, Xtr_std, Ytr, cv=kf,scoring='r2')\n",
    "print('R^2',rsq_cv)"
   ]
  },
  {
   "cell_type": "markdown",
   "metadata": {},
   "source": [
    "Still, the value `alpha=1e-2` was only a guess.  We should do even better with a properly tuned `alpha`. "
   ]
  },
  {
   "cell_type": "markdown",
   "metadata": {},
   "source": [
    "##  LASSO Feature Selection + LS Linear Regression\n",
    "\n",
    "We know that LASSO does two things: it sets a subset of coefficients to zero and it shrinks \n",
    "the remaining coefficients towards zero. \n",
    "Since this coefficient shrinkage is often problematic, it is typical to use LASSO only for feature selection.\n",
    "Once features are selected by LASSO, another regression method is applied to those features, such as LS-based linear regression.\n",
    "We'll call this method \"LASSO+LS\".\n",
    "It is also known as \"debiased LASSO\".\n",
    "\n",
    "Your next task is use a grid search to tune `alpha` for LASSO+LS. \n",
    "For consistency, use the same shuffled 5-fold cross-validation object `kf` that you created earlier.\n",
    "Make a log-spaced grid with 5 values. \n",
    "(It's up to you to choose the values.)\n",
    "Then make a `for` loop over the grid values, doing the following for each `alpha`:\n",
    "* Fit a LASSO model to the entire training data and identify the feature subset where the LASSO coefficients are non-zero.\n",
    "* Print out `alpha` and the number of selected features\n",
    "* Using those features, fit a least-squares model and evaluate the R^2 value using `cross_val_score`.\n",
    "When you have done this for all grid points, plot the CV-estimated R^2 versus `alpha` and mark the maximum R^2 and maximizing value of `alpha`. \n",
    "\n",
    "Do the above several times for different choices of `alpha` grid until you find a grid where R^2 peaks in the middle and with fine enough grid resolution to identify a good R^2 value.\n",
    "If you see lasso selecting zero features for some `alpha`, you know that value of `alpha` is too high."
   ]
  },
  {
   "cell_type": "code",
   "execution_count": 27,
   "metadata": {},
   "outputs": [
    {
     "name": "stdout",
     "output_type": "stream",
     "text": [
      "alphas [0.05011872 0.06683439 0.08912509 0.11885022 0.15848932]\n",
      "num nonzero features [727. 449. 293. 165.  92.]\n"
     ]
    },
    {
     "ename": "ValueError",
     "evalue": "x and y must have same first dimension, but have shapes (1,) and (5,)",
     "output_type": "error",
     "traceback": [
      "\u001b[1;31m---------------------------------------------------------------------------\u001b[0m",
      "\u001b[1;31mValueError\u001b[0m                                Traceback (most recent call last)",
      "Input \u001b[1;32mIn [27]\u001b[0m, in \u001b[0;36m<cell line: 33>\u001b[1;34m()\u001b[0m\n\u001b[0;32m     30\u001b[0m plt\u001b[38;5;241m.\u001b[39msemilogx(alphas,rsq_cv)\n\u001b[0;32m     31\u001b[0m imax\u001b[38;5;241m=\u001b[39mnp\u001b[38;5;241m.\u001b[39margmax(rsq_cv)\n\u001b[1;32m---> 33\u001b[0m \u001b[43mplt\u001b[49m\u001b[38;5;241;43m.\u001b[39;49m\u001b[43msemilogx\u001b[49m\u001b[43m(\u001b[49m\u001b[43malphas\u001b[49m\u001b[43m[\u001b[49m\u001b[43mimax\u001b[49m\u001b[43m]\u001b[49m\u001b[43m,\u001b[49m\u001b[43mrsq_cv\u001b[49m\u001b[43m[\u001b[49m\u001b[43mimax\u001b[49m\u001b[43m]\u001b[49m\u001b[43m,\u001b[49m\u001b[38;5;124;43m'\u001b[39;49m\u001b[38;5;124;43mo\u001b[39;49m\u001b[38;5;124;43m'\u001b[39;49m\u001b[43m,\u001b[49m\u001b[43mlabel\u001b[49m\u001b[38;5;241;43m=\u001b[39;49m\u001b[38;5;124;43m'\u001b[39;49m\u001b[38;5;124;43mmax R^2\u001b[39;49m\u001b[38;5;124;43m'\u001b[39;49m\u001b[43m)\u001b[49m\n\u001b[0;32m     34\u001b[0m plt\u001b[38;5;241m.\u001b[39mxlabel(\u001b[38;5;124m'\u001b[39m\u001b[38;5;124malphas\u001b[39m\u001b[38;5;124m'\u001b[39m)\n\u001b[0;32m     35\u001b[0m plt\u001b[38;5;241m.\u001b[39mylabel(\u001b[38;5;124m'\u001b[39m\u001b[38;5;124mrsq_cv\u001b[39m\u001b[38;5;124m'\u001b[39m)\n",
      "File \u001b[1;32m~\\Anaconda3\\lib\\site-packages\\matplotlib\\pyplot.py:2819\u001b[0m, in \u001b[0;36msemilogx\u001b[1;34m(*args, **kwargs)\u001b[0m\n\u001b[0;32m   2817\u001b[0m \u001b[38;5;129m@_copy_docstring_and_deprecators\u001b[39m(Axes\u001b[38;5;241m.\u001b[39msemilogx)\n\u001b[0;32m   2818\u001b[0m \u001b[38;5;28;01mdef\u001b[39;00m \u001b[38;5;21msemilogx\u001b[39m(\u001b[38;5;241m*\u001b[39margs, \u001b[38;5;241m*\u001b[39m\u001b[38;5;241m*\u001b[39mkwargs):\n\u001b[1;32m-> 2819\u001b[0m     \u001b[38;5;28;01mreturn\u001b[39;00m gca()\u001b[38;5;241m.\u001b[39msemilogx(\u001b[38;5;241m*\u001b[39margs, \u001b[38;5;241m*\u001b[39m\u001b[38;5;241m*\u001b[39mkwargs)\n",
      "File \u001b[1;32m~\\Anaconda3\\lib\\site-packages\\matplotlib\\axes\\_axes.py:1817\u001b[0m, in \u001b[0;36mAxes.semilogx\u001b[1;34m(self, *args, **kwargs)\u001b[0m\n\u001b[0;32m   1813\u001b[0m d \u001b[38;5;241m=\u001b[39m {k: v \u001b[38;5;28;01mfor\u001b[39;00m k, v \u001b[38;5;129;01min\u001b[39;00m kwargs\u001b[38;5;241m.\u001b[39mitems()\n\u001b[0;32m   1814\u001b[0m      \u001b[38;5;28;01mif\u001b[39;00m k \u001b[38;5;129;01min\u001b[39;00m [\u001b[38;5;124m'\u001b[39m\u001b[38;5;124mbase\u001b[39m\u001b[38;5;124m'\u001b[39m, \u001b[38;5;124m'\u001b[39m\u001b[38;5;124msubs\u001b[39m\u001b[38;5;124m'\u001b[39m, \u001b[38;5;124m'\u001b[39m\u001b[38;5;124mnonpositive\u001b[39m\u001b[38;5;124m'\u001b[39m,\n\u001b[0;32m   1815\u001b[0m               \u001b[38;5;124m'\u001b[39m\u001b[38;5;124mbasex\u001b[39m\u001b[38;5;124m'\u001b[39m, \u001b[38;5;124m'\u001b[39m\u001b[38;5;124msubsx\u001b[39m\u001b[38;5;124m'\u001b[39m, \u001b[38;5;124m'\u001b[39m\u001b[38;5;124mnonposx\u001b[39m\u001b[38;5;124m'\u001b[39m]}\n\u001b[0;32m   1816\u001b[0m \u001b[38;5;28mself\u001b[39m\u001b[38;5;241m.\u001b[39mset_xscale(\u001b[38;5;124m'\u001b[39m\u001b[38;5;124mlog\u001b[39m\u001b[38;5;124m'\u001b[39m, \u001b[38;5;241m*\u001b[39m\u001b[38;5;241m*\u001b[39md)\n\u001b[1;32m-> 1817\u001b[0m \u001b[38;5;28;01mreturn\u001b[39;00m \u001b[38;5;28mself\u001b[39m\u001b[38;5;241m.\u001b[39mplot(\n\u001b[0;32m   1818\u001b[0m     \u001b[38;5;241m*\u001b[39margs, \u001b[38;5;241m*\u001b[39m\u001b[38;5;241m*\u001b[39m{k: v \u001b[38;5;28;01mfor\u001b[39;00m k, v \u001b[38;5;129;01min\u001b[39;00m kwargs\u001b[38;5;241m.\u001b[39mitems() \u001b[38;5;28;01mif\u001b[39;00m k \u001b[38;5;129;01mnot\u001b[39;00m \u001b[38;5;129;01min\u001b[39;00m d})\n",
      "File \u001b[1;32m~\\Anaconda3\\lib\\site-packages\\matplotlib\\axes\\_axes.py:1632\u001b[0m, in \u001b[0;36mAxes.plot\u001b[1;34m(self, scalex, scaley, data, *args, **kwargs)\u001b[0m\n\u001b[0;32m   1390\u001b[0m \u001b[38;5;124;03m\"\"\"\u001b[39;00m\n\u001b[0;32m   1391\u001b[0m \u001b[38;5;124;03mPlot y versus x as lines and/or markers.\u001b[39;00m\n\u001b[0;32m   1392\u001b[0m \n\u001b[1;32m   (...)\u001b[0m\n\u001b[0;32m   1629\u001b[0m \u001b[38;5;124;03m(``'green'``) or hex strings (``'#008000'``).\u001b[39;00m\n\u001b[0;32m   1630\u001b[0m \u001b[38;5;124;03m\"\"\"\u001b[39;00m\n\u001b[0;32m   1631\u001b[0m kwargs \u001b[38;5;241m=\u001b[39m cbook\u001b[38;5;241m.\u001b[39mnormalize_kwargs(kwargs, mlines\u001b[38;5;241m.\u001b[39mLine2D)\n\u001b[1;32m-> 1632\u001b[0m lines \u001b[38;5;241m=\u001b[39m [\u001b[38;5;241m*\u001b[39m\u001b[38;5;28mself\u001b[39m\u001b[38;5;241m.\u001b[39m_get_lines(\u001b[38;5;241m*\u001b[39margs, data\u001b[38;5;241m=\u001b[39mdata, \u001b[38;5;241m*\u001b[39m\u001b[38;5;241m*\u001b[39mkwargs)]\n\u001b[0;32m   1633\u001b[0m \u001b[38;5;28;01mfor\u001b[39;00m line \u001b[38;5;129;01min\u001b[39;00m lines:\n\u001b[0;32m   1634\u001b[0m     \u001b[38;5;28mself\u001b[39m\u001b[38;5;241m.\u001b[39madd_line(line)\n",
      "File \u001b[1;32m~\\Anaconda3\\lib\\site-packages\\matplotlib\\axes\\_base.py:312\u001b[0m, in \u001b[0;36m_process_plot_var_args.__call__\u001b[1;34m(self, data, *args, **kwargs)\u001b[0m\n\u001b[0;32m    310\u001b[0m     this \u001b[38;5;241m+\u001b[39m\u001b[38;5;241m=\u001b[39m args[\u001b[38;5;241m0\u001b[39m],\n\u001b[0;32m    311\u001b[0m     args \u001b[38;5;241m=\u001b[39m args[\u001b[38;5;241m1\u001b[39m:]\n\u001b[1;32m--> 312\u001b[0m \u001b[38;5;28;01myield from\u001b[39;00m \u001b[38;5;28;43mself\u001b[39;49m\u001b[38;5;241;43m.\u001b[39;49m\u001b[43m_plot_args\u001b[49m\u001b[43m(\u001b[49m\u001b[43mthis\u001b[49m\u001b[43m,\u001b[49m\u001b[43m \u001b[49m\u001b[43mkwargs\u001b[49m\u001b[43m)\u001b[49m\n",
      "File \u001b[1;32m~\\Anaconda3\\lib\\site-packages\\matplotlib\\axes\\_base.py:498\u001b[0m, in \u001b[0;36m_process_plot_var_args._plot_args\u001b[1;34m(self, tup, kwargs, return_kwargs)\u001b[0m\n\u001b[0;32m    495\u001b[0m     \u001b[38;5;28mself\u001b[39m\u001b[38;5;241m.\u001b[39maxes\u001b[38;5;241m.\u001b[39myaxis\u001b[38;5;241m.\u001b[39mupdate_units(y)\n\u001b[0;32m    497\u001b[0m \u001b[38;5;28;01mif\u001b[39;00m x\u001b[38;5;241m.\u001b[39mshape[\u001b[38;5;241m0\u001b[39m] \u001b[38;5;241m!=\u001b[39m y\u001b[38;5;241m.\u001b[39mshape[\u001b[38;5;241m0\u001b[39m]:\n\u001b[1;32m--> 498\u001b[0m     \u001b[38;5;28;01mraise\u001b[39;00m \u001b[38;5;167;01mValueError\u001b[39;00m(\u001b[38;5;124mf\u001b[39m\u001b[38;5;124m\"\u001b[39m\u001b[38;5;124mx and y must have same first dimension, but \u001b[39m\u001b[38;5;124m\"\u001b[39m\n\u001b[0;32m    499\u001b[0m                      \u001b[38;5;124mf\u001b[39m\u001b[38;5;124m\"\u001b[39m\u001b[38;5;124mhave shapes \u001b[39m\u001b[38;5;132;01m{\u001b[39;00mx\u001b[38;5;241m.\u001b[39mshape\u001b[38;5;132;01m}\u001b[39;00m\u001b[38;5;124m and \u001b[39m\u001b[38;5;132;01m{\u001b[39;00my\u001b[38;5;241m.\u001b[39mshape\u001b[38;5;132;01m}\u001b[39;00m\u001b[38;5;124m\"\u001b[39m)\n\u001b[0;32m    500\u001b[0m \u001b[38;5;28;01mif\u001b[39;00m x\u001b[38;5;241m.\u001b[39mndim \u001b[38;5;241m>\u001b[39m \u001b[38;5;241m2\u001b[39m \u001b[38;5;129;01mor\u001b[39;00m y\u001b[38;5;241m.\u001b[39mndim \u001b[38;5;241m>\u001b[39m \u001b[38;5;241m2\u001b[39m:\n\u001b[0;32m    501\u001b[0m     \u001b[38;5;28;01mraise\u001b[39;00m \u001b[38;5;167;01mValueError\u001b[39;00m(\u001b[38;5;124mf\u001b[39m\u001b[38;5;124m\"\u001b[39m\u001b[38;5;124mx and y can be no greater than 2D, but have \u001b[39m\u001b[38;5;124m\"\u001b[39m\n\u001b[0;32m    502\u001b[0m                      \u001b[38;5;124mf\u001b[39m\u001b[38;5;124m\"\u001b[39m\u001b[38;5;124mshapes \u001b[39m\u001b[38;5;132;01m{\u001b[39;00mx\u001b[38;5;241m.\u001b[39mshape\u001b[38;5;132;01m}\u001b[39;00m\u001b[38;5;124m and \u001b[39m\u001b[38;5;132;01m{\u001b[39;00my\u001b[38;5;241m.\u001b[39mshape\u001b[38;5;132;01m}\u001b[39;00m\u001b[38;5;124m\"\u001b[39m)\n",
      "\u001b[1;31mValueError\u001b[0m: x and y must have same first dimension, but have shapes (1,) and (5,)"
     ]
    },
    {
     "data": {
      "image/png": "[encoded data removed]",
      "text/plain": [
       "<Figure size 432x288 with 1 Axes>"
      ]
     },
     "metadata": {
      "needs_background": "light"
     },
     "output_type": "display_data"
    }
   ],
   "source": [
    "# To extract the feature subset...\n",
    "#   nonzero = np.any(np.abs(lasso.coef_)>1e-5,axis=0)\n",
    "#   subset = np.where(nonzero)[0] # array of feature indices\n",
    "#\n",
    "# TODO:\n",
    "#\n",
    "# alphas_lasso = ...\n",
    "# for i,a in enumerate(alphas_lasso):\n",
    "#    ...\n",
    "#    rsq_cv[i] = ...\n",
    "#\n",
    "# plt.plot(...)\n",
    "from sklearn import linear_model\n",
    "linreg = LinearRegression(fit_intercept=False)\n",
    "lasso = linear_model.Lasso(fit_intercept=False,warm_start=True)\n",
    "alphas = np.logspace(-1.3,-0.8,5)\n",
    "rsq_cv = np.zeros((5,5))\n",
    "num_feature = np.zeros(5)\n",
    "for i,a in enumerate(alphas):\n",
    "    # fit LASSO\n",
    "    lasso.set_params(alpha = a)\n",
    "    lasso.fit(Xtr_std,Ytr)\n",
    "    nonzero = (np.abs(lasso.coef_)>1e-5) # logical array\n",
    "    subset = np.where(nonzero)[0] # array of feature indices\n",
    "    rsq_cv[i] = -cross_val_score(linreg, Xtr_std[:, subset], Ytr, cv=kf, scoring='r2')\n",
    "    num_feature[i]=np.sum(nonzero)\n",
    "print('alphas',alphas)\n",
    "print('num nonzero features',num_feature)\n",
    "\n",
    "plt.semilogx(alphas,rsq_cv)\n",
    "imax=np.argmax(rsq_cv)\n",
    "\n",
    "plt.semilogx(alphas[imax],rsq_cv[imax],'o',label='max R^2')\n",
    "plt.xlabel('alphas')\n",
    "plt.ylabel('rsq_cv')\n",
    "plt.grid()"
   ]
  },
  {
   "cell_type": "markdown",
   "metadata": {},
   "source": [
    "You should see that LASSO+LS with a tuned `alpha` performs similarly to the untuned LASSO from earlier.\n",
    "\n",
    "One reason that tuned LASSO+LS is not much better than untuned LASSO is that LASSO's coefficient shrinkage may actually be helping with this dataset.  Remember that Ridge regression is another method that shrinks coefficients, and it is known to help with correlated features.  The features in this dataset are definitely correlated, so perhaps we should try performing Ridge regression on LASSO-selected features.\n",
    "\n",
    "Before we do that, though, let's plot the RMS values of the biased LASSO coefficients (at the optimal `alpha`), similarly to how you plotted the Ridge coefficients earlier. \n",
    "To do this, you'll first need to re-fit LASSO and LASSO+LS.\n",
    "\n",
    "In addition, let's also plot the RMS values of the LASSO+LS coefficients for comparison.\n",
    "Note that the LS estimator returns only the values of the few nonzero weights selected by LASSO. \n",
    "So, to plot the LASSO+LS coefficients, you'll need to first make an all-zeros array and then insert the LS weights in the locations of the selected features."
   ]
  },
  {
   "cell_type": "code",
   "execution_count": 13,
   "metadata": {},
   "outputs": [],
   "source": [
    "# TODO\n",
    "#\n",
    "W_lasso=regr.coef_.transpose()\n",
    "W_lasso_rms = np.sqrt(np.sum(W_lasso**2,1) )\n",
    "plt.plot(W_lasso_rms)\n",
    "plt.ylabel('W_lasso_rms')\n",
    "plt.grid()"
   ]
  },
  {
   "cell_type": "markdown",
   "metadata": {},
   "source": [
    "The LASSO and LASSO+LS weights should be very sparse.\n",
    "The LASSO weights should be shrunk compared to the LASSO+LS weights but have the same support (i.e., the same subset of nonzero indices)"
   ]
  },
  {
   "cell_type": "markdown",
   "metadata": {},
   "source": [
    "##  LASSO Feature Selection + tuned Ridge Regression\n",
    "\n",
    "We will now try to improve upon the previous methods by using LASSO+Ridge instead of LASSO+LS.  At each fixed value of `alpha_lasso` that we try, we will do a grid-search-CV optimization of `alpha_ridge`.\n",
    "\n",
    "Modify your previous code so that `cross_val_score(linreg...` is replaced by `gscv.fit(...`, where `gscv = GridSearchCV(ridge...`.  In other words, for each value of `alphas_lasso`, do a grid-search over an `alphas_ridge` grid using `GridSearchCV`, and then extract the results using `gscv.best_score_` and `gscv.best_parameters_['alpha']`.\n",
    "For `alphas_ridge`, I suggest to start with `logspace(0,4,5)`. \n",
    "\n",
    "Plot the resulting R^2 versus `alphas_lasso`.  Iterate on your choice of `alphas_lasso` until R^2 peaks in the middle of your `alphas_lasso` grid and there is enough resolution to identify a good value.\n",
    "\n",
    "Once you have found a good choice for `alphas_lasso`, plot R^2 versus `alphas_ridge` to see if `alphas_ridge` needs adjusting, and adjust it as needed."
   ]
  },
  {
   "cell_type": "code",
   "execution_count": 14,
   "metadata": {},
   "outputs": [],
   "source": [
    "# TODO\n"
   ]
  },
  {
   "cell_type": "markdown",
   "metadata": {},
   "source": [
    "You should see that (tuned) LASSO feature selection followed by tuned Ridge regression outperforms all previous methods: Ridge, LASSO, and LASSO+LS."
   ]
  },
  {
   "cell_type": "markdown",
   "metadata": {},
   "source": [
    "## More fun\n",
    "\n",
    "If you want to dive deeper into this application:\n",
    "* Install the [MNE python package](https://martinos.org/mne/stable/index.html).  This is an amazing package with many tools for processing EEG data.\n",
    "* In particular, you can use the above to visualize where in the brain the currents are active.\n",
    "* We could also use a more sophisticated regularization technique called Group LASSO, that encourages *entire rows* of the `W` matrix to be zero-valued.  This is appropriate in this application because, if the current is zero for one time, it is likely to be zero for all time. \n",
    "* You can even use the recovered current patterns to make predictions about what the patient is seeing or hearing or thinking!  It sounds like science-fiction, but it has been demonstrated to work to a certain extent!"
   ]
  },
  {
   "cell_type": "code",
   "execution_count": null,
   "metadata": {},
   "outputs": [],
   "source": []
  }
 ],
 "metadata": {
  "kernelspec": {
   "display_name": "Python 3 (ipykernel)",
   "language": "python",
   "name": "python3"
  },
  "language_info": {
   "codemirror_mode": {
    "name": "ipython",
    "version": 3
   },
   "file_extension": ".py",
   "mimetype": "text/x-python",
   "name": "python",
   "nbconvert_exporter": "python",
   "pygments_lexer": "ipython3",
   "version": "3.9.12"
  },
  "varInspector": {
   "cols": {
    "lenName": 16,
    "lenType": 16,
    "lenVar": 40
   },
   "kernels_config": {
    "python": {
     "delete_cmd_postfix": "",
     "delete_cmd_prefix": "del ",
     "library": "var_list.py",
     "varRefreshCmd": "print(var_dic_list())"
    },
    "r": {
     "delete_cmd_postfix": ") ",
     "delete_cmd_prefix": "rm(",
     "library": "var_list.r",
     "varRefreshCmd": "cat(var_dic_list()) "
    }
   },
   "types_to_exclude": [
    "module",
    "function",
    "builtin_function_or_method",
    "instance",
    "_Feature"
   ],
   "window_display": false
  }
 },
 "nbformat": 4,
 "nbformat_minor": 2
}
